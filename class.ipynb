{
  "nbformat": 4,
  "nbformat_minor": 0,
  "metadata": {
    "colab": {
      "provenance": []
    },
    "kernelspec": {
      "name": "python3",
      "display_name": "Python 3"
    },
    "language_info": {
      "name": "python"
    }
  },
  "cells": [
    {
      "cell_type": "code",
      "execution_count": null,
      "metadata": {
        "colab": {
          "base_uri": "https://localhost:8080/"
        },
        "id": "OOan1Zf1kumi",
        "outputId": "e8201a2c-5074-4bfc-e030-9d022665131a"
      },
      "outputs": [
        {
          "output_type": "stream",
          "name": "stdout",
          "text": [
            "Sakshi 21 200000\n"
          ]
        }
      ],
      "source": [
        "class Employee:\n",
        "    def __init__(self, name, age, salary):\n",
        "        self.name = name\n",
        "        self.age = age\n",
        "        self.salary = salary\n",
        "    def printdata(self):\n",
        "        print(self.name, self.age, self.salary)\n",
        "e1 = Employee(\"Sakshi\", 21, 200000)\n",
        "e1.printdata()\n"
      ]
    },
    {
      "cell_type": "code",
      "source": [
        "class Birds:\n",
        "    def set_data(self,name):\n",
        "        self.name=name\n",
        "    def display_data(self):\n",
        "        print(self.name)\n",
        "b1=Birds()\n",
        "b1.set_data(\"Parrot\")\n",
        "b1.display_data()"
      ],
      "metadata": {
        "colab": {
          "base_uri": "https://localhost:8080/"
        },
        "id": "eyQttwKrkwRa",
        "outputId": "691fb01a-7010-4d81-c639-030a98c4842d"
      },
      "execution_count": null,
      "outputs": [
        {
          "output_type": "stream",
          "name": "stdout",
          "text": [
            "Parrot\n"
          ]
        }
      ]
    },
    {
      "cell_type": "code",
      "source": [
        "class Numbers:\n",
        "    def __init__(self, num1, num2):\n",
        "        self.num1 = num1\n",
        "        self.num2 = num2\n",
        "\n",
        "    def add(self):\n",
        "        return self.num1 + self.num2\n",
        "\n",
        "    def subtract(self):\n",
        "        return self.num1 - self.num2\n",
        "\n",
        "    def multiply(self):\n",
        "        return self.num1 * self.num2\n",
        "\n",
        "    def divide(self):\n",
        "        if self.num2 != 0:\n",
        "            return self.num1 / self.num2\n",
        "        else:\n",
        "            return \"Division by zero is not allowed\"\n",
        "\n",
        "    def display_numbers(self):\n",
        "        print(f\"Number 1: {self.num1}, Number 2: {self.num2}\")\n",
        "\n",
        "numbers = Numbers(10, 5)\n",
        "numbers.display_numbers()\n",
        "print(\"Addition:\", numbers.add())\n",
        "print(\"Subtraction:\", numbers.subtract())\n",
        "print(\"Multiplication:\", numbers.multiply())\n",
        "print(\"Division:\", numbers.divide())\n"
      ],
      "metadata": {
        "colab": {
          "base_uri": "https://localhost:8080/"
        },
        "id": "0hkkwTveqZgs",
        "outputId": "e211e37a-c0dd-42f4-c896-93dd5fe83cd8"
      },
      "execution_count": null,
      "outputs": [
        {
          "output_type": "stream",
          "name": "stdout",
          "text": [
            "Number 1: 10, Number 2: 5\n",
            "Addition: 15\n",
            "Subtraction: 5\n",
            "Multiplication: 50\n",
            "Division: 2.0\n"
          ]
        }
      ]
    },
    {
      "cell_type": "code",
      "source": [
        "class Car:\n",
        "    # Class attribute\n",
        "    total_cars = 0\n",
        "\n",
        "    def __init__(self, name, model):\n",
        "        self.name = name\n",
        "        self.model = model\n",
        "        Car.total_cars += 1\n",
        "    def print_cardata(self):\n",
        "        print(f\"Name: {self.name}, Model: {self.model}\")\n",
        "c1 = Car(\"Audi\", 200000)\n",
        "c2 = Car(\"BMW\", 30000000)\n",
        "c3 = Car(\"BENZ\", 400000)\n",
        "print(\"Total Cars:\", Car.total_cars)\n",
        "c1.print_cardata()\n",
        "c2.print_cardata()\n",
        "c3.print_cardata()\n"
      ],
      "metadata": {
        "colab": {
          "base_uri": "https://localhost:8080/"
        },
        "id": "SmiOOnOqrSz3",
        "outputId": "71dd2c75-8ef9-4e53-b49e-fd1d1c74280b"
      },
      "execution_count": null,
      "outputs": [
        {
          "output_type": "stream",
          "name": "stdout",
          "text": [
            "Total Cars: 3\n",
            "Name: Audi, Model: 200000\n",
            "Name: BMW, Model: 30000000\n",
            "Name: BENZ, Model: 400000\n"
          ]
        }
      ]
    },
    {
      "cell_type": "code",
      "source": [
        "class test:\n",
        "  def __init__(self):\n",
        "    self.variable = 'car'\n",
        "    self.Change(self.variable)\n",
        "  def Change(self, var):\n",
        "    var = 'bike'\n",
        "obj = test()\n",
        "print(obj.variable)"
      ],
      "metadata": {
        "colab": {
          "base_uri": "https://localhost:8080/"
        },
        "id": "QpuAjK8JvlJd",
        "outputId": "1c0f8742-46a7-4a77-9f6b-106ff410da08"
      },
      "execution_count": null,
      "outputs": [
        {
          "output_type": "stream",
          "name": "stdout",
          "text": [
            "car\n"
          ]
        }
      ]
    },
    {
      "cell_type": "code",
      "source": [
        "class Car:\n",
        "    def speed(self):\n",
        "        print(\"100km\")\n",
        "class Audi(Car):\n",
        "    def engine(self):\n",
        "        print(\"Engine is powerful\")\n",
        "c=Audi()\n",
        "c.engine()\n",
        "c.speed()\n"
      ],
      "metadata": {
        "id": "fnMXDsGWxD5m",
        "colab": {
          "base_uri": "https://localhost:8080/"
        },
        "outputId": "ad4cd1dd-d03f-4b24-ddb6-a337cb6c363c"
      },
      "execution_count": null,
      "outputs": [
        {
          "output_type": "stream",
          "name": "stdout",
          "text": [
            "Engine is powerful\n",
            "100km\n"
          ]
        }
      ]
    },
    {
      "cell_type": "code",
      "source": [
        "class Animal:\n",
        "    def sound(self):\n",
        "        print(\"Some generic sound\")\n",
        "class Dog(Animal):\n",
        "    def sound(self):\n",
        "        print(\"bark\")\n",
        "class Cat(Animal):\n",
        "    def sound(self):\n",
        "        print(\"meow\")\n",
        "\n",
        "dog = Dog()\n",
        "cat = Cat()\n",
        "\n",
        "#overriding\n",
        "dog.sound()\n",
        "cat.sound()"
      ],
      "metadata": {
        "colab": {
          "base_uri": "https://localhost:8080/"
        },
        "id": "abm4UiU0l45f",
        "outputId": "082dd1a9-c77d-4862-8244-9d882c686adb"
      },
      "execution_count": null,
      "outputs": [
        {
          "output_type": "stream",
          "name": "stdout",
          "text": [
            "bark\n",
            "meow\n"
          ]
        }
      ]
    },
    {
      "cell_type": "code",
      "source": [
        "class Calculator:\n",
        "  def add(self,num1,num2):\n",
        "    self.num1=num1\n",
        "    self.num2=num2\n",
        "    return self.num1+self.num2\n",
        "  def sub(self,num1,num2):\n",
        "    return num1-num2;\n",
        "class AdvancedCalculator(Calculator):\n",
        "  def mul(self,num1,num2):\n",
        "    print(\"Multiplication :\",num1*num2)\n",
        "  def div(self,num1,num2):\n",
        "    return num1//num2;\n",
        "x=AdvancedCalculator()\n",
        "num1=int(input())\n",
        "num2=int(input())\n",
        "print(\"Addition : %d\"%x.add(num1,num2))\n",
        "print(\"Subtraction : %d\" %x.sub(num1,num2))\n",
        "x.mul(num1,num2)\n",
        "print(\"Floor Division : %d\"%(x.div(num1,num2)))\n"
      ],
      "metadata": {
        "id": "voLO-Faqolrn",
        "colab": {
          "base_uri": "https://localhost:8080/"
        },
        "outputId": "f147c403-e0b2-4087-f199-20c34bfeb7c6"
      },
      "execution_count": null,
      "outputs": [
        {
          "output_type": "stream",
          "name": "stdout",
          "text": [
            "10\n",
            "2\n",
            "Addition : 12\n",
            "Subtraction : 8\n",
            "Multiplication : 20\n",
            "Floor Division : 5\n"
          ]
        }
      ]
    },
    {
      "cell_type": "code",
      "source": [],
      "metadata": {
        "id": "hII-0sB5qEg6",
        "colab": {
          "base_uri": "https://localhost:8080/",
          "height": 228
        },
        "outputId": "5df8fa04-3153-4f79-920f-f78cb83f9339"
      },
      "execution_count": null,
      "outputs": [
        {
          "name": "stdout",
          "output_type": "stream",
          "text": [
            "Enter two numbers separated by spaces: 2\n"
          ]
        },
        {
          "output_type": "error",
          "ename": "ValueError",
          "evalue": "not enough values to unpack (expected 2, got 1)",
          "traceback": [
            "\u001b[0;31m---------------------------------------------------------------------------\u001b[0m",
            "\u001b[0;31mValueError\u001b[0m                                Traceback (most recent call last)",
            "\u001b[0;32m<ipython-input-1-0f53d43d9acd>\u001b[0m in \u001b[0;36m<cell line: 4>\u001b[0;34m()\u001b[0m\n\u001b[1;32m      2\u001b[0m     \u001b[0;32mreturn\u001b[0m \u001b[0ma\u001b[0m \u001b[0;34m+\u001b[0m \u001b[0mb\u001b[0m\u001b[0;34m\u001b[0m\u001b[0;34m\u001b[0m\u001b[0m\n\u001b[1;32m      3\u001b[0m \u001b[0;34m\u001b[0m\u001b[0m\n\u001b[0;32m----> 4\u001b[0;31m \u001b[0ma\u001b[0m\u001b[0;34m,\u001b[0m \u001b[0mb\u001b[0m \u001b[0;34m=\u001b[0m \u001b[0mmap\u001b[0m\u001b[0;34m(\u001b[0m\u001b[0mint\u001b[0m\u001b[0;34m,\u001b[0m \u001b[0minput\u001b[0m\u001b[0;34m(\u001b[0m\u001b[0;34m\"Enter two numbers separated by spaces: \"\u001b[0m\u001b[0;34m)\u001b[0m\u001b[0;34m.\u001b[0m\u001b[0msplit\u001b[0m\u001b[0;34m(\u001b[0m\u001b[0;34m)\u001b[0m\u001b[0;34m)\u001b[0m\u001b[0;34m\u001b[0m\u001b[0;34m\u001b[0m\u001b[0m\n\u001b[0m\u001b[1;32m      5\u001b[0m \u001b[0mprint\u001b[0m\u001b[0;34m(\u001b[0m\u001b[0;34mf\"The sum is: {add_numbers(a, b)}\"\u001b[0m\u001b[0;34m)\u001b[0m\u001b[0;34m\u001b[0m\u001b[0;34m\u001b[0m\u001b[0m\n\u001b[1;32m      6\u001b[0m \u001b[0;34m\u001b[0m\u001b[0m\n",
            "\u001b[0;31mValueError\u001b[0m: not enough values to unpack (expected 2, got 1)"
          ]
        }
      ]
    },
    {
      "cell_type": "code",
      "source": [],
      "metadata": {
        "id": "w8cuGlb9UKmn"
      },
      "execution_count": null,
      "outputs": []
    }
  ]
}