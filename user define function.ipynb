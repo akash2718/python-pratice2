{
 "cells": [
  {
   "cell_type": "code",
   "execution_count": 3,
   "id": "c9ca9eb4-c713-4a2a-ab0d-41637fbab353",
   "metadata": {},
   "outputs": [
    {
     "name": "stdin",
     "output_type": "stream",
     "text": [
      "enter x: 3\n",
      "enter y: 4\n",
      "enter Z: 5\n"
     ]
    },
    {
     "name": "stdout",
     "output_type": "stream",
     "text": [
      "sum= 12.0\n",
      "product= 60.0\n"
     ]
    }
   ],
   "source": [
    "x=int(input(\"enter x:\"))\n",
    "y=float(input(\"enter y:\"))\n",
    "z=int(input(\"enter Z:\"))\n",
    "def sum(x,y,z):\n",
    "    s=x+y+z\n",
    "    return s\n",
    "def pro(x,y,z):\n",
    "    p=x*y*z\n",
    "    return p\n",
    "print(\"sum=\",sum(x,y,z))\n",
    "print(\"product=\",pro(x,y,z))\n",
    "    "
   ]
  },
  {
   "cell_type": "code",
   "execution_count": null,
   "id": "9a9f3ac0-f0ea-4ccd-94ef-1c803ed2300e",
   "metadata": {},
   "outputs": [],
   "source": []
  }
 ],
 "metadata": {
  "kernelspec": {
   "display_name": "Python 3 (ipykernel)",
   "language": "python",
   "name": "python3"
  },
  "language_info": {
   "codemirror_mode": {
    "name": "ipython",
    "version": 3
   },
   "file_extension": ".py",
   "mimetype": "text/x-python",
   "name": "python",
   "nbconvert_exporter": "python",
   "pygments_lexer": "ipython3",
   "version": "3.12.3"
  }
 },
 "nbformat": 4,
 "nbformat_minor": 5
}
