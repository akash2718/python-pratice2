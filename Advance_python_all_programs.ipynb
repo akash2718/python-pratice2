{
  "cells": [
    {
      "cell_type": "code",
      "execution_count": null,
      "metadata": {
        "colab": {
          "base_uri": "https://localhost:8080/"
        },
        "id": "KbCLL_QDeMXv",
        "outputId": "34406905-9608-4122-e1a9-0d8dcf8b19d5"
      },
      "outputs": [
        {
          "name": "stdout",
          "output_type": "stream",
          "text": [
            "False\n",
            "False\n",
            "False\n",
            "False\n",
            "False\n",
            "True\n"
          ]
        }
      ],
      "source": [
        "X=\"ALL IS WELL\"\n",
        "print(X.isalpha())\n",
        "print(X.islower())\n",
        "print(X.isalnum())\n",
        "print(X.isdigit())\n",
        "print(X.isdigit())\n",
        "print(X.isupper())"
      ]
    },
    {
      "cell_type": "code",
      "execution_count": null,
      "metadata": {
        "id": "TmwLWKZrp5rB"
      },
      "outputs": [],
      "source": []
    },
    {
      "cell_type": "code",
      "execution_count": null,
      "metadata": {
        "id": "p5gQ_ETQu88z"
      },
      "outputs": [],
      "source": []
    },
    {
      "cell_type": "code",
      "execution_count": null,
      "metadata": {
        "id": "xCixf2ybpHC2"
      },
      "outputs": [],
      "source": []
    },
    {
      "cell_type": "markdown",
      "metadata": {
        "id": "13EIith4e75r"
      },
      "source": []
    },
    {
      "cell_type": "code",
      "execution_count": null,
      "metadata": {
        "colab": {
          "base_uri": "https://localhost:8080/"
        },
        "id": "GFmQKtXce8qw",
        "outputId": "5709aeef-7976-44b0-9f72-401562adf3cf"
      },
      "outputs": [
        {
          "output_type": "stream",
          "name": "stdout",
          "text": [
            "W\n",
            "7\n"
          ]
        }
      ],
      "source": [
        "X=\"WE ARE DATA SCIENTIST\"\n",
        "print(X[0])\n",
        "\n",
        "X = \"Peter picked a peck OF pickled peppers\"\n",
        "total_e = X.count('e')\n",
        "print(total_e)\n"
      ]
    },
    {
      "cell_type": "markdown",
      "metadata": {
        "id": "z-mZV1mPhbM1"
      },
      "source": [
        "Count of e"
      ]
    },
    {
      "cell_type": "code",
      "execution_count": null,
      "metadata": {
        "colab": {
          "base_uri": "https://localhost:8080/"
        },
        "id": "VXdo3goGhZh0",
        "outputId": "da14c4ab-948d-4872-b04d-5619170ed47a"
      },
      "outputs": [
        {
          "name": "stdout",
          "output_type": "stream",
          "text": [
            "The letter 'e' appears 7 times.\n"
          ]
        }
      ],
      "source": [
        "X = \"Peter picked a peck OF pickled peppers\"\n",
        "\n",
        "# Check if 'e' is in the string\n",
        "if 'e' in X:\n",
        "    total_e = X.count('e')\n",
        "    print(f\"The letter 'e' appears {total_e} times.\")\n",
        "else:\n",
        "    print(\"The letter 'e' is not in the string.\")\n"
      ]
    },
    {
      "cell_type": "code",
      "execution_count": null,
      "metadata": {
        "colab": {
          "base_uri": "https://localhost:8080/"
        },
        "id": "ryAi3m6XjnN-",
        "outputId": "6e3d154f-c61a-4578-ba49-63d768c9f801"
      },
      "outputs": [
        {
          "name": "stdout",
          "output_type": "stream",
          "text": [
            "25\n",
            "125\n"
          ]
        }
      ],
      "source": [
        "n=5\n",
        "print(n*n)\n",
        "print(n*n*n)"
      ]
    },
    {
      "cell_type": "code",
      "execution_count": null,
      "metadata": {
        "colab": {
          "base_uri": "https://localhost:8080/"
        },
        "id": "vAXc5uFmkjtL",
        "outputId": "939a1e51-699a-4063-9dd8-5a036c7848bc"
      },
      "outputs": [
        {
          "name": "stdout",
          "output_type": "stream",
          "text": [
            "i is between 15 and 20\n"
          ]
        }
      ],
      "source": [
        "i=16\n",
        "if i <15:\n",
        "  print(\" i is smaller than 15\")\n",
        "else:\n",
        "  if i >20:\n",
        "    print(\"i is between 15 and 20\")\n",
        "  else:\n",
        "    print(\"i is between 15 and 20\")\n"
      ]
    },
    {
      "cell_type": "code",
      "execution_count": null,
      "metadata": {
        "colab": {
          "background_save": true
        },
        "id": "qba3NNV2mzhx",
        "outputId": "15c66418-64d9-4cf5-e918-c68e76dfd835"
      },
      "outputs": [
        {
          "name": "stdout",
          "output_type": "stream",
          "text": [
            "Second dievison\n"
          ]
        }
      ],
      "source": [
        "a=int(input(\"enter the mark \"))\n",
        "if a >= 60 :\n",
        "  print(\"First dievison\")\n",
        "elif a >= 50 and  a <= 59:\n",
        "  print(\"Second dievison\")\n",
        "elif a <= 60:\n",
        "  print(\"Third dievison\")\n",
        "else :\n",
        "  print(\"fail\")"
      ]
    },
    {
      "cell_type": "code",
      "execution_count": null,
      "metadata": {
        "id": "YM7OXoyMPs61",
        "colab": {
          "base_uri": "https://localhost:8080/"
        },
        "outputId": "2db5d6bd-9a17-4031-fe7a-2dcb0880f8e0"
      },
      "outputs": [
        {
          "output_type": "stream",
          "name": "stdout",
          "text": [
            "6\n",
            "6 "
          ]
        }
      ],
      "source": [
        "def print_digits(n):\n",
        "    if n == 0:\n",
        "        print(0)\n",
        "        return\n",
        "\n",
        "    while n > 0:\n",
        "        digit = n % 10  # Extract the last digit\n",
        "        print(digit, end=' ')  # Print the digit with a space\n",
        "        n = n // 10  # Remove the last digit\n",
        "\n",
        "# Example usage\n",
        "n = int(input())  # Read an integer from STDIN\n",
        "print_digits(n)\n"
      ]
    },
    {
      "cell_type": "code",
      "execution_count": null,
      "metadata": {
        "id": "kPd1L55-pIEL",
        "colab": {
          "base_uri": "https://localhost:8080/",
          "height": 263
        },
        "outputId": "4d42660c-95ca-460b-c918-0516064ff1aa"
      },
      "outputs": [
        {
          "output_type": "stream",
          "name": "stdout",
          "text": [
            "enter the number:8\n",
            "9.0\n",
            "number of item is more\n"
          ]
        },
        {
          "output_type": "error",
          "ename": "NameError",
          "evalue": "name 'r_times' is not defined",
          "traceback": [
            "\u001b[0;31m---------------------------------------------------------------------------\u001b[0m",
            "\u001b[0;31mNameError\u001b[0m                                 Traceback (most recent call last)",
            "\u001b[0;32m<ipython-input-3-94eb15784ba5>\u001b[0m in \u001b[0;36m<cell line: 12>\u001b[0;34m()\u001b[0m\n\u001b[1;32m     10\u001b[0m \u001b[0;32melse\u001b[0m\u001b[0;34m:\u001b[0m\u001b[0;34m\u001b[0m\u001b[0;34m\u001b[0m\u001b[0m\n\u001b[1;32m     11\u001b[0m     \u001b[0mprint\u001b[0m\u001b[0;34m(\u001b[0m\u001b[0;34m\"number of item is more\"\u001b[0m\u001b[0;34m)\u001b[0m\u001b[0;34m\u001b[0m\u001b[0;34m\u001b[0m\u001b[0m\n\u001b[0;32m---> 12\u001b[0;31m \u001b[0mprint\u001b[0m\u001b[0;34m(\u001b[0m\u001b[0mr_times\u001b[0m\u001b[0;34m)\u001b[0m\u001b[0;34m\u001b[0m\u001b[0;34m\u001b[0m\u001b[0m\n\u001b[0m\u001b[1;32m     13\u001b[0m                                         \u001b[0;31m#FOR LOOP\u001b[0m\u001b[0;34m\u001b[0m\u001b[0;34m\u001b[0m\u001b[0m\n\u001b[1;32m     14\u001b[0m \u001b[0;34m\u001b[0m\u001b[0m\n",
            "\u001b[0;31mNameError\u001b[0m: name 'r_times' is not defined"
          ]
        }
      ],
      "source": [
        "n_items=int(input(\"enter the number:\"))\n",
        "single_item=float(input())\n",
        "\n",
        "if n_items==1:\n",
        "    r_times=single_item\n",
        "elif n_items==2:\n",
        "    r_times=single_item *1.5\n",
        "elif n_items==3:\n",
        "    r_times=single_item*2\n",
        "else:\n",
        "    print(\"number of item is more\")\n",
        "print(r_times)\n",
        "                                        #FOR LOOP\n",
        "\n",
        "for a in range(1,5):\n",
        "    print(\"a\",a)\n",
        "for i in 1,2,3,4,5:\n",
        "    print(\"i\",i)\n",
        "for b in range(1,5,2):\n",
        "    print(\"b\",b)\n",
        "for t in range(0,26):\n",
        "    if t%2!=0:\n",
        "        print(\"t\",t)"
      ]
    },
    {
      "cell_type": "code",
      "execution_count": null,
      "metadata": {
        "id": "qj0TDvMKu-Db"
      },
      "outputs": [],
      "source": []
    },
    {
      "cell_type": "code",
      "execution_count": null,
      "metadata": {
        "colab": {
          "base_uri": "https://localhost:8080/"
        },
        "id": "E-IwPqzcrPNA",
        "outputId": "ebe2c6f9-090d-4db8-cf2b-4eedd6b1976d"
      },
      "outputs": [
        {
          "name": "stdout",
          "output_type": "stream",
          "text": [
            "35\n"
          ]
        }
      ],
      "source": [
        "X=\"Peter Piper picked a peck of pickled peppers. A peck of pickled peppers Peter Piper picked. If Peter Piper picked a peck of pickled peppers, Where's the peck of pickled peppers Peter Piper picked?\"\n",
        "print(X.count('e'))"
      ]
    },
    {
      "cell_type": "code",
      "execution_count": null,
      "metadata": {
        "id": "ErZGaK2-u_FV",
        "colab": {
          "base_uri": "https://localhost:8080/"
        },
        "outputId": "7bc9d688-6089-47d4-f544-2fa0208589ed"
      },
      "outputs": [
        {
          "output_type": "stream",
          "name": "stdout",
          "text": [
            "Enter the age  9\n",
            "Enter the show time: 9.0\n",
            "The price of the movie ticket is: $4.00\n"
          ]
        }
      ],
      "source": [
        "age = int(input(\"Enter the age  \"))\n",
        "show_time = float(input(\"Enter the show time: \"))\n",
        "if 10.00 <= show_time <= 17.00:\n",
        "    is_matinee = True\n",
        "else:\n",
        "    is_matinee = False\n",
        "if age > 13:\n",
        "    if is_matinee:\n",
        "        ticket_price = 5.00\n",
        "    else:\n",
        "        ticket_price = 8.00\n",
        "else:\n",
        "    if is_matinee:\n",
        "        ticket_price = 2.00\n",
        "    else:\n",
        "        ticket_price = 4.00\n",
        "print(f\"The price of the movie ticket is: ${ticket_price:.2f}\")"
      ]
    },
    {
      "cell_type": "code",
      "execution_count": null,
      "metadata": {
        "id": "0GFKC2mdw5AU"
      },
      "outputs": [],
      "source": [
        "age = int(input(\"Enter the age  \"))\n",
        "show_time = float(input(\"Enter the show time: \"))\n",
        "if age<=13:\n",
        "  if 10.15 <= show_time <= 13.30:\n",
        "      ticket_price=8.00\n",
        "  elif 18.00<=show_time<=22.00:\n",
        "        ticket_price=5.00\n",
        "elif age<13:\n",
        "  if 10.15<=show_time<=3.30:\n",
        "    ticket_price=4.00\n",
        "  elif 18.00<=show_time<=22.00:\n",
        "    ticket_price=2.00\n",
        "\n",
        "\n",
        "print(f\"The price of the movie ticket is: ${ticket_price:.2f}\")"
      ]
    },
    {
      "cell_type": "code",
      "execution_count": null,
      "metadata": {
        "id": "R2K8aRj54nMx"
      },
      "outputs": [],
      "source": [
        "for i in range(5,):\n",
        "  print(\"i\",i)"
      ]
    },
    {
      "cell_type": "code",
      "execution_count": null,
      "metadata": {
        "id": "0sWUizd63ska"
      },
      "outputs": [],
      "source": [
        "n = 5\n",
        "\n",
        "for i in range(5,-1): #1,5\n",
        "    print('*' * i)\n"
      ]
    },
    {
      "cell_type": "code",
      "execution_count": null,
      "metadata": {
        "colab": {
          "base_uri": "https://localhost:8080/"
        },
        "id": "rlGcJEberHQG",
        "outputId": "14ccaf7b-26ed-4744-8fec-9304f594d3fb"
      },
      "outputs": [
        {
          "output_type": "stream",
          "name": "stdout",
          "text": [
            "*\n",
            "**\n",
            "***\n",
            "****\n",
            "*****\n"
          ]
        }
      ],
      "source": [
        "n = 5\n",
        "\n",
        "for i in range(1, n+1):\n",
        "    print('*' * i)\n"
      ]
    },
    {
      "cell_type": "code",
      "execution_count": null,
      "metadata": {
        "id": "iTxskfGWqwsm"
      },
      "outputs": [],
      "source": [
        "n = 5\n",
        "\n",
        "for i in range(1, n+1):\n",
        "    print('*' * i)\n"
      ]
    },
    {
      "cell_type": "code",
      "execution_count": null,
      "metadata": {
        "colab": {
          "base_uri": "https://localhost:8080/"
        },
        "id": "xErYgG2Gtc50",
        "outputId": "aeb34130-bd68-40e4-91dd-d8cb9781f521"
      },
      "outputs": [
        {
          "output_type": "stream",
          "name": "stdout",
          "text": [
            "0 1 2 3 4 "
          ]
        }
      ],
      "source": [
        "for i in range(0,5):\n",
        "  for j  in range(0,1,1+1):\n",
        "    print(i,end=\" \")"
      ]
    },
    {
      "cell_type": "code",
      "execution_count": null,
      "metadata": {
        "id": "KArnRlZpADbN"
      },
      "outputs": [],
      "source": [
        "\n",
        "for i in range(1,6):\n",
        "  if(i==4):\n",
        "    print(\"loops break\")\n",
        "    break\n",
        "    print(i,end=\"\")\n",
        "print()\n"
      ]
    },
    {
      "cell_type": "code",
      "execution_count": null,
      "metadata": {
        "id": "71iwZ1PxKN-N"
      },
      "outputs": [],
      "source": [
        "for i in range(1,6):\n",
        "  for j in range(1,4):\n",
        "    if(j==3):\n",
        "      print(\"loops break\")\n",
        "      break\n",
        "    print(i,end=\"\")\n",
        "print()\n"
      ]
    },
    {
      "cell_type": "code",
      "execution_count": null,
      "metadata": {
        "id": "qWezm_vnNlDz"
      },
      "outputs": [],
      "source": []
    },
    {
      "cell_type": "code",
      "execution_count": null,
      "metadata": {
        "colab": {
          "base_uri": "https://localhost:8080/"
        },
        "id": "ATGuMTlLLtzb",
        "outputId": "27916cd1-e96b-4089-a6bc-8769790fcfa7"
      },
      "outputs": [
        {
          "name": "stdout",
          "output_type": "stream",
          "text": [
            "111\n",
            "222\n",
            "loops break\n"
          ]
        }
      ],
      "source": [
        "\n",
        "for i in range(1,6):\n",
        "  if(i==3):\n",
        "    print(\"loops break\")\n",
        "    break\n",
        "  for j in range(1,4):\n",
        "    print(i,end=\"\")\n",
        "  print()\n"
      ]
    },
    {
      "cell_type": "code",
      "execution_count": null,
      "metadata": {
        "id": "XRmb8OfUNu5Z"
      },
      "outputs": [],
      "source": [
        "student_type = input(\"Enter student type : \")\n",
        "tuition_fee = float(input(\"Enter tuition fee: \"))\n",
        "bus_fee = float(input(\"Enter bus fee: \"))\n",
        "hostel_fee = float(input(\"Enter hostel fee: \"))\n",
        "\n",
        "if student_type == \"MSDS\":\n",
        "    total_fee = tuition_fee + bus_fee\n",
        "elif student_type == \"MSH\":\n",
        "    total_fee = tuition_fee + hostel_fee\n",
        "elif student_type == \"MGSDS\":\n",
        "    total_fee = 1.5 * tuition_fee + bus_fee\n",
        "elif student_type == \"MGSH\":\n",
        "    total_fee = 1.5 * tuition_fee + hostel_fee\n",
        "else:\n",
        "    total_fee = 0\n",
        "    print(\"Invalid student type\")\n",
        "print(total_fee)"
      ]
    },
    {
      "cell_type": "code",
      "execution_count": null,
      "metadata": {
        "id": "3lgwNWC_Tb3e"
      },
      "outputs": [],
      "source": [
        "# Taking inputs\n",
        "door = input(\"Enter door\").lower()  # Convert to lowercase to handle all cases\n",
        "rail = int(input(\"Enter rail\"))\n",
        "\n",
        "# Logic to determine handedness\n",
        "if (door == \"front\" and rail == 1) or (door == \"rear\" and rail == 2):\n",
        "    print(\"Left Handed\")\n",
        "else:\n",
        "    print(\"Right Handed\")"
      ]
    },
    {
      "cell_type": "code",
      "execution_count": null,
      "metadata": {
        "colab": {
          "base_uri": "https://localhost:8080/"
        },
        "id": "bj9dzvbBxxfa",
        "outputId": "e68173b5-b207-4a16-94d7-38d3ea4695db"
      },
      "outputs": [
        {
          "name": "stdout",
          "output_type": "stream",
          "text": [
            "enter the number:5\n",
            "sum 1\n",
            "sum 3\n",
            "sum 6\n",
            "sum 10\n",
            "sum 15\n"
          ]
        }
      ],
      "source": [
        "n=int(input(\"enter the number:\"))\n",
        "sum=0\n",
        "for i  in range(1,n+1):\n",
        "  sum+=i;\n",
        "  print(\"sum\",sum)"
      ]
    },
    {
      "cell_type": "code",
      "execution_count": null,
      "metadata": {
        "colab": {
          "base_uri": "https://localhost:8080/"
        },
        "id": "lmzjs0gYuYQl",
        "outputId": "ed58d278-50de-495c-b4cd-3821088c580c"
      },
      "outputs": [
        {
          "name": "stdout",
          "output_type": "stream",
          "text": [
            "enter the number:9\n",
            "enter the number:7\n",
            "enter the number:6\n",
            "(22.0, 378.0)\n"
          ]
        }
      ],
      "source": [
        "def fun():\n",
        "  x=float(input(\"enter the number:\"))\n",
        "  y=float(input(\"enter the number:\"))\n",
        "  z=float(input(\"enter the number:\"))\n",
        "  c=x+y+z\n",
        "  d=(x*y)\n",
        "  return c ,d\n",
        "kl=fun()\n",
        "print(kl)"
      ]
    },
    {
      "cell_type": "markdown",
      "metadata": {
        "id": "x8IGzTWksip-"
      },
      "source": [
        "Write a python program to find the maximum of three numbers\n",
        "Hint :Do not built in function max()"
      ]
    },
    {
      "cell_type": "code",
      "execution_count": null,
      "metadata": {
        "colab": {
          "base_uri": "https://localhost:8080/"
        },
        "id": "x8JHe4uWrOBx",
        "outputId": "ef333015-ce1f-4d26-e74d-af42cf4ef575"
      },
      "outputs": [
        {
          "name": "stdout",
          "output_type": "stream",
          "text": [
            "enter the number:8\n",
            "enter the number:9\n",
            "enter the number:10\n",
            "10\n"
          ]
        }
      ],
      "source": [
        "x=int(input(\"enter the number:\"))\n",
        "y=int(input(\"enter the number:\"))\n",
        "z=int(input(\"enter the number:\"))\n",
        "if  x>y and x>z:\n",
        "    print(x)\n",
        "elif y>x and y>z:\n",
        "  print(y)\n",
        "elif z>x and z>y:\n",
        "  print(z)\n"
      ]
    },
    {
      "cell_type": "code",
      "execution_count": null,
      "metadata": {
        "colab": {
          "base_uri": "https://localhost:8080/",
          "height": 356
        },
        "id": "wSb4C_5nuov2",
        "outputId": "4aadb052-1c06-4ad8-8d6e-e65211de05a9"
      },
      "outputs": [
        {
          "ename": "KeyboardInterrupt",
          "evalue": "Interrupted by user",
          "output_type": "error",
          "traceback": [
            "\u001b[0;31m---------------------------------------------------------------------------\u001b[0m",
            "\u001b[0;31mKeyboardInterrupt\u001b[0m                         Traceback (most recent call last)",
            "\u001b[0;32m<ipython-input-20-8d8b0bb6c124>\u001b[0m in \u001b[0;36m<cell line: 1>\u001b[0;34m()\u001b[0m\n\u001b[0;32m----> 1\u001b[0;31m \u001b[0ma\u001b[0m\u001b[0;34m=\u001b[0m\u001b[0mint\u001b[0m\u001b[0;34m(\u001b[0m\u001b[0minput\u001b[0m\u001b[0;34m(\u001b[0m\u001b[0;34m\"enter the number:\"\u001b[0m\u001b[0;34m)\u001b[0m\u001b[0;34m)\u001b[0m\u001b[0;34m\u001b[0m\u001b[0;34m\u001b[0m\u001b[0m\n\u001b[0m\u001b[1;32m      2\u001b[0m \u001b[0mb\u001b[0m\u001b[0;34m=\u001b[0m\u001b[0mint\u001b[0m\u001b[0;34m(\u001b[0m\u001b[0mint\u001b[0m\u001b[0;34m(\u001b[0m\u001b[0minput\u001b[0m\u001b[0;34m(\u001b[0m\u001b[0;34m\"enter the number:\"\u001b[0m\u001b[0;34m)\u001b[0m\u001b[0;34m)\u001b[0m\u001b[0;34m)\u001b[0m\u001b[0;34m\u001b[0m\u001b[0;34m\u001b[0m\u001b[0m\n\u001b[1;32m      3\u001b[0m \u001b[0md\u001b[0m\u001b[0;34m=\u001b[0m\u001b[0ma\u001b[0m\u001b[0;34m+\u001b[0m\u001b[0mb\u001b[0m\u001b[0;34m;\u001b[0m\u001b[0;34m\u001b[0m\u001b[0;34m\u001b[0m\u001b[0m\n\u001b[1;32m      4\u001b[0m \u001b[0me\u001b[0m\u001b[0;34m=\u001b[0m\u001b[0ma\u001b[0m\u001b[0;34m*\u001b[0m\u001b[0mb\u001b[0m\u001b[0;34m\u001b[0m\u001b[0;34m\u001b[0m\u001b[0m\n\u001b[1;32m      5\u001b[0m \u001b[0;32mif\u001b[0m \u001b[0md\u001b[0m\u001b[0;34m==\u001b[0m\u001b[0;36m19\u001b[0m\u001b[0;34m:\u001b[0m\u001b[0;34m\u001b[0m\u001b[0;34m\u001b[0m\u001b[0m\n",
            "\u001b[0;32m/usr/local/lib/python3.10/dist-packages/ipykernel/kernelbase.py\u001b[0m in \u001b[0;36mraw_input\u001b[0;34m(self, prompt)\u001b[0m\n\u001b[1;32m    849\u001b[0m                 \u001b[0;34m\"raw_input was called, but this frontend does not support input requests.\"\u001b[0m\u001b[0;34m\u001b[0m\u001b[0;34m\u001b[0m\u001b[0m\n\u001b[1;32m    850\u001b[0m             )\n\u001b[0;32m--> 851\u001b[0;31m         return self._input_request(str(prompt),\n\u001b[0m\u001b[1;32m    852\u001b[0m             \u001b[0mself\u001b[0m\u001b[0;34m.\u001b[0m\u001b[0m_parent_ident\u001b[0m\u001b[0;34m,\u001b[0m\u001b[0;34m\u001b[0m\u001b[0;34m\u001b[0m\u001b[0m\n\u001b[1;32m    853\u001b[0m             \u001b[0mself\u001b[0m\u001b[0;34m.\u001b[0m\u001b[0m_parent_header\u001b[0m\u001b[0;34m,\u001b[0m\u001b[0;34m\u001b[0m\u001b[0;34m\u001b[0m\u001b[0m\n",
            "\u001b[0;32m/usr/local/lib/python3.10/dist-packages/ipykernel/kernelbase.py\u001b[0m in \u001b[0;36m_input_request\u001b[0;34m(self, prompt, ident, parent, password)\u001b[0m\n\u001b[1;32m    893\u001b[0m             \u001b[0;32mexcept\u001b[0m \u001b[0mKeyboardInterrupt\u001b[0m\u001b[0;34m:\u001b[0m\u001b[0;34m\u001b[0m\u001b[0;34m\u001b[0m\u001b[0m\n\u001b[1;32m    894\u001b[0m                 \u001b[0;31m# re-raise KeyboardInterrupt, to truncate traceback\u001b[0m\u001b[0;34m\u001b[0m\u001b[0;34m\u001b[0m\u001b[0m\n\u001b[0;32m--> 895\u001b[0;31m                 \u001b[0;32mraise\u001b[0m \u001b[0mKeyboardInterrupt\u001b[0m\u001b[0;34m(\u001b[0m\u001b[0;34m\"Interrupted by user\"\u001b[0m\u001b[0;34m)\u001b[0m \u001b[0;32mfrom\u001b[0m \u001b[0;32mNone\u001b[0m\u001b[0;34m\u001b[0m\u001b[0;34m\u001b[0m\u001b[0m\n\u001b[0m\u001b[1;32m    896\u001b[0m             \u001b[0;32mexcept\u001b[0m \u001b[0mException\u001b[0m \u001b[0;32mas\u001b[0m \u001b[0me\u001b[0m\u001b[0;34m:\u001b[0m\u001b[0;34m\u001b[0m\u001b[0;34m\u001b[0m\u001b[0m\n\u001b[1;32m    897\u001b[0m                 \u001b[0mself\u001b[0m\u001b[0;34m.\u001b[0m\u001b[0mlog\u001b[0m\u001b[0;34m.\u001b[0m\u001b[0mwarning\u001b[0m\u001b[0;34m(\u001b[0m\u001b[0;34m\"Invalid Message:\"\u001b[0m\u001b[0;34m,\u001b[0m \u001b[0mexc_info\u001b[0m\u001b[0;34m=\u001b[0m\u001b[0;32mTrue\u001b[0m\u001b[0;34m)\u001b[0m\u001b[0;34m\u001b[0m\u001b[0;34m\u001b[0m\u001b[0m\n",
            "\u001b[0;31mKeyboardInterrupt\u001b[0m: Interrupted by user"
          ]
        }
      ],
      "source": [
        "a=int(input(\"enter the number:\"))\n",
        "b=int(int(input(\"enter the number:\")))\n",
        "d=a+b;\n",
        "e=a*b\n",
        "if d==19:\n",
        "  print(\"a+b is a special number\")\n",
        "elif e==19:\n",
        "  print(\"a*b  is a special number\")\n",
        "else:\n",
        "  print(\"not a special number\")\n"
      ]
    },
    {
      "cell_type": "code",
      "execution_count": null,
      "metadata": {
        "colab": {
          "base_uri": "https://localhost:8080/"
        },
        "id": "g5Bn03BKxTW8",
        "outputId": "9e186752-99bf-4225-92a5-7f567eaf64c3"
      },
      "outputs": [
        {
          "name": "stdout",
          "output_type": "stream",
          "text": [
            "12\n",
            "first digit: 1\n",
            "second  digit: 120\n",
            "output 241\n",
            "not a special number\n"
          ]
        }
      ],
      "source": [
        "x=int(input())\n",
        "first=x//10\n",
        "second=x*10\n",
        "print(\"first digit:\",first)\n",
        "print(\"second  digit:\",second)\n",
        "result=(first+second)+(first*second)\n",
        "print(\"output\",result)\n",
        "if x==result:\n",
        "  print(\"special number\")\n",
        "else:\n",
        "  print(\"not a special number\")\n"
      ]
    },
    {
      "cell_type": "code",
      "execution_count": null,
      "metadata": {
        "colab": {
          "base_uri": "https://localhost:8080/"
        },
        "id": "J6ItAldjOGLg",
        "outputId": "ff4d6cfb-bae4-4ba9-980e-3064d86f06f7"
      },
      "outputs": [
        {
          "name": "stdout",
          "output_type": "stream",
          "text": [
            "8\n",
            "Not a Happy Number\n"
          ]
        }
      ],
      "source": [
        "def is_happy_number(num):\n",
        "    def sum_of_squares(n):\n",
        "        return sum(int(digit) ** 2 for digit in str(n))\n",
        "\n",
        "    visited_numbers = set()\n",
        "\n",
        "    while num != 1 and num not in visited_numbers:\n",
        "        visited_numbers.add(num)\n",
        "        num = sum_of_squares(num)\n",
        "\n",
        "    if num == 1:\n",
        "        return \"Happy Number\"\n",
        "    else:\n",
        "        return \"Not a Happy Number\"\n",
        "\n",
        "number = int(input())\n",
        "print(is_happy_number(number))"
      ]
    },
    {
      "cell_type": "markdown",
      "metadata": {
        "id": "8Ctm1uMZshT-"
      },
      "source": []
    },
    {
      "cell_type": "markdown",
      "metadata": {
        "id": "qfOD5JTXhaPm"
      },
      "source": []
    },
    {
      "cell_type": "code",
      "execution_count": null,
      "metadata": {
        "colab": {
          "base_uri": "https://localhost:8080/"
        },
        "id": "AJVmKPl0ReN-",
        "outputId": "afa03aee-c68f-4e0c-babd-d58fb306c870"
      },
      "outputs": [
        {
          "name": "stdout",
          "output_type": "stream",
          "text": [
            "akash\n",
            "brahmos\n",
            "x are not same\n"
          ]
        }
      ],
      "source": [
        "x=str(input())\n",
        "y=str(input())\n",
        "if x==y:\n",
        "  print(\"x are same\")\n",
        "else:\n",
        "  print(\"x are not same\")"
      ]
    },
    {
      "cell_type": "code",
      "execution_count": null,
      "metadata": {
        "id": "fBPsvYaJWmfP"
      },
      "outputs": [],
      "source": [
        "n"
      ]
    },
    {
      "cell_type": "code",
      "execution_count": null,
      "metadata": {
        "colab": {
          "base_uri": "https://localhost:8080/"
        },
        "id": "6L96N0BPWtUC",
        "outputId": "cdd45024-6460-4f50-ca92-78783cfcde35"
      },
      "outputs": [
        {
          "name": "stdout",
          "output_type": "stream",
          "text": [
            "7\n",
            "yes\n"
          ]
        }
      ],
      "source": [
        "n=int(input())\n",
        "if n%7==0:\n",
        "  print(\"yes\")\n",
        "else :\n",
        "  print(\"no\")"
      ]
    },
    {
      "cell_type": "code",
      "execution_count": null,
      "metadata": {
        "colab": {
          "base_uri": "https://localhost:8080/"
        },
        "id": "dOh_Sv4NX5ml",
        "outputId": "16e05312-8e06-4d76-9e03-6648e9bedb1a"
      },
      "outputs": [
        {
          "name": "stdout",
          "output_type": "stream",
          "text": [
            "5\n",
            "10\n",
            "6\n",
            "not between\n"
          ]
        }
      ],
      "source": [
        "n=int(input())\n",
        "l=int(input())\n",
        "r=int(input())\n",
        "if l<=r>=n: #7 10 5\n",
        "  print(\"between l and r\")\n",
        "else:\n",
        "  print(\"not between\")\n"
      ]
    },
    {
      "cell_type": "code",
      "execution_count": null,
      "metadata": {
        "id": "0kdsjVqg4RMv"
      },
      "outputs": [],
      "source": []
    },
    {
      "cell_type": "code",
      "execution_count": null,
      "metadata": {
        "colab": {
          "base_uri": "https://localhost:8080/"
        },
        "id": "WpjjnNnMdtHZ",
        "outputId": "8c54023a-5b6b-49ff-fb0d-09f4c08f194d"
      },
      "outputs": [
        {
          "name": "stdout",
          "output_type": "stream",
          "text": [
            "9\n",
            "10\n",
            "1\n",
            "yes\n"
          ]
        }
      ],
      "source": [
        "n = int(input())\n",
        "l = int(input())\n",
        "r = int(input())\n",
        "\n",
        "if l > r:\n",
        "    l, r = r, l\n",
        "\n",
        "if l <= n <= r:\n",
        "    print(\"yes\")\n",
        "else:\n",
        "    print(\"no\")"
      ]
    },
    {
      "cell_type": "code",
      "execution_count": null,
      "metadata": {
        "colab": {
          "background_save": true
        },
        "id": "vdy-xoJs4R5s",
        "outputId": "53156037-f737-4036-ab1c-3f03700061eb"
      },
      "outputs": [
        {
          "ename": "KeyboardInterrupt",
          "evalue": "Interrupted by user",
          "output_type": "error",
          "traceback": [
            "\u001b[0;31m---------------------------------------------------------------------------\u001b[0m",
            "\u001b[0;31mKeyboardInterrupt\u001b[0m                         Traceback (most recent call last)",
            "\u001b[0;32m<ipython-input-7-1431ad175442>\u001b[0m in \u001b[0;36m<cell line: 2>\u001b[0;34m()\u001b[0m\n\u001b[1;32m      1\u001b[0m \u001b[0ma\u001b[0m\u001b[0;34m=\u001b[0m\u001b[0mint\u001b[0m\u001b[0;34m(\u001b[0m\u001b[0minput\u001b[0m\u001b[0;34m(\u001b[0m\u001b[0;34m\"enter the num:\"\u001b[0m\u001b[0;34m)\u001b[0m\u001b[0;34m)\u001b[0m\u001b[0;34m\u001b[0m\u001b[0;34m\u001b[0m\u001b[0m\n\u001b[0;32m----> 2\u001b[0;31m \u001b[0mb\u001b[0m\u001b[0;34m=\u001b[0m\u001b[0mint\u001b[0m\u001b[0;34m(\u001b[0m\u001b[0minput\u001b[0m\u001b[0;34m(\u001b[0m\u001b[0;34m\"enter the num:\"\u001b[0m\u001b[0;34m)\u001b[0m\u001b[0;34m)\u001b[0m\u001b[0;34m\u001b[0m\u001b[0;34m\u001b[0m\u001b[0m\n\u001b[0m\u001b[1;32m      3\u001b[0m \u001b[0mc\u001b[0m\u001b[0;34m=\u001b[0m\u001b[0mint\u001b[0m\u001b[0;34m(\u001b[0m\u001b[0minput\u001b[0m\u001b[0;34m(\u001b[0m\u001b[0;34m\"enter the num:\"\u001b[0m\u001b[0;34m)\u001b[0m\u001b[0;34m)\u001b[0m\u001b[0;34m\u001b[0m\u001b[0;34m\u001b[0m\u001b[0m\n\u001b[1;32m      4\u001b[0m \u001b[0;32mif\u001b[0m \u001b[0ma\u001b[0m\u001b[0;34m>\u001b[0m\u001b[0mb\u001b[0m\u001b[0;34m:\u001b[0m\u001b[0;34m\u001b[0m\u001b[0;34m\u001b[0m\u001b[0m\n\u001b[1;32m      5\u001b[0m   \u001b[0;32mif\u001b[0m \u001b[0ma\u001b[0m\u001b[0;34m>\u001b[0m\u001b[0mc\u001b[0m\u001b[0;34m:\u001b[0m\u001b[0;34m\u001b[0m\u001b[0;34m\u001b[0m\u001b[0m\n",
            "\u001b[0;32m/usr/local/lib/python3.10/dist-packages/ipykernel/kernelbase.py\u001b[0m in \u001b[0;36mraw_input\u001b[0;34m(self, prompt)\u001b[0m\n\u001b[1;32m    849\u001b[0m                 \u001b[0;34m\"raw_input was called, but this frontend does not support input requests.\"\u001b[0m\u001b[0;34m\u001b[0m\u001b[0;34m\u001b[0m\u001b[0m\n\u001b[1;32m    850\u001b[0m             )\n\u001b[0;32m--> 851\u001b[0;31m         return self._input_request(str(prompt),\n\u001b[0m\u001b[1;32m    852\u001b[0m             \u001b[0mself\u001b[0m\u001b[0;34m.\u001b[0m\u001b[0m_parent_ident\u001b[0m\u001b[0;34m,\u001b[0m\u001b[0;34m\u001b[0m\u001b[0;34m\u001b[0m\u001b[0m\n\u001b[1;32m    853\u001b[0m             \u001b[0mself\u001b[0m\u001b[0;34m.\u001b[0m\u001b[0m_parent_header\u001b[0m\u001b[0;34m,\u001b[0m\u001b[0;34m\u001b[0m\u001b[0;34m\u001b[0m\u001b[0m\n",
            "\u001b[0;32m/usr/local/lib/python3.10/dist-packages/ipykernel/kernelbase.py\u001b[0m in \u001b[0;36m_input_request\u001b[0;34m(self, prompt, ident, parent, password)\u001b[0m\n\u001b[1;32m    893\u001b[0m             \u001b[0;32mexcept\u001b[0m \u001b[0mKeyboardInterrupt\u001b[0m\u001b[0;34m:\u001b[0m\u001b[0;34m\u001b[0m\u001b[0;34m\u001b[0m\u001b[0m\n\u001b[1;32m    894\u001b[0m                 \u001b[0;31m# re-raise KeyboardInterrupt, to truncate traceback\u001b[0m\u001b[0;34m\u001b[0m\u001b[0;34m\u001b[0m\u001b[0m\n\u001b[0;32m--> 895\u001b[0;31m                 \u001b[0;32mraise\u001b[0m \u001b[0mKeyboardInterrupt\u001b[0m\u001b[0;34m(\u001b[0m\u001b[0;34m\"Interrupted by user\"\u001b[0m\u001b[0;34m)\u001b[0m \u001b[0;32mfrom\u001b[0m \u001b[0;32mNone\u001b[0m\u001b[0;34m\u001b[0m\u001b[0;34m\u001b[0m\u001b[0m\n\u001b[0m\u001b[1;32m    896\u001b[0m             \u001b[0;32mexcept\u001b[0m \u001b[0mException\u001b[0m \u001b[0;32mas\u001b[0m \u001b[0me\u001b[0m\u001b[0;34m:\u001b[0m\u001b[0;34m\u001b[0m\u001b[0;34m\u001b[0m\u001b[0m\n\u001b[1;32m    897\u001b[0m                 \u001b[0mself\u001b[0m\u001b[0;34m.\u001b[0m\u001b[0mlog\u001b[0m\u001b[0;34m.\u001b[0m\u001b[0mwarning\u001b[0m\u001b[0;34m(\u001b[0m\u001b[0;34m\"Invalid Message:\"\u001b[0m\u001b[0;34m,\u001b[0m \u001b[0mexc_info\u001b[0m\u001b[0;34m=\u001b[0m\u001b[0;32mTrue\u001b[0m\u001b[0;34m)\u001b[0m\u001b[0;34m\u001b[0m\u001b[0;34m\u001b[0m\u001b[0m\n",
            "\u001b[0;31mKeyboardInterrupt\u001b[0m: Interrupted by user"
          ]
        }
      ],
      "source": [
        "a=int(input(\"enter the num:\"))\n",
        "b=int(input(\"enter the num:\"))\n",
        "c=int(input(\"enter the num:\"))\n",
        "if a>b:\n",
        "  if a>c:\n",
        "    print(a)\n",
        "if b>a:\n",
        "  if b>c:\n",
        "    print(b)\n",
        "if c>a:\n",
        "  if c>b:\n",
        "    print(c)\n",
        "\n",
        "\n"
      ]
    },
    {
      "cell_type": "code",
      "source": [
        "a=[1,2,3]\n",
        "print(a)"
      ],
      "metadata": {
        "colab": {
          "base_uri": "https://localhost:8080/"
        },
        "id": "UroqdIrdRUE1",
        "outputId": "07c658a7-5ae5-42ba-8d33-fd365f9e4874"
      },
      "execution_count": null,
      "outputs": [
        {
          "output_type": "stream",
          "name": "stdout",
          "text": [
            "[1, 2, 3]\n"
          ]
        }
      ]
    },
    {
      "cell_type": "code",
      "source": [
        "b=[1.5,1.2,3.4]\n",
        "print(b)"
      ],
      "metadata": {
        "colab": {
          "base_uri": "https://localhost:8080/"
        },
        "id": "w6NZS2OBSESN",
        "outputId": "1686e613-f004-4afa-91f4-6c6ac8289cfb"
      },
      "execution_count": null,
      "outputs": [
        {
          "output_type": "stream",
          "name": "stdout",
          "text": [
            "[1.5, 1.2, 3.4]\n"
          ]
        }
      ]
    },
    {
      "cell_type": "code",
      "source": [
        "c=[\" akash\",\"rahul bot\",\"bhupathy_bot\"]\n",
        "c"
      ],
      "metadata": {
        "id": "wj3Y3LXBTGzZ"
      },
      "execution_count": null,
      "outputs": []
    },
    {
      "cell_type": "code",
      "source": [
        "a=[\"akash\",1,2.3,6,7]\n",
        "print(a[-4:])"
      ],
      "metadata": {
        "colab": {
          "base_uri": "https://localhost:8080/"
        },
        "id": "rKV7WU81TMIt",
        "outputId": "4a3c5eb8-c860-42aa-841e-17696e0ad414"
      },
      "execution_count": null,
      "outputs": [
        {
          "output_type": "stream",
          "name": "stdout",
          "text": [
            "[1, 2.3, 6, 7]\n"
          ]
        }
      ]
    },
    {
      "cell_type": "code",
      "source": [
        "d=[2,3,[\"naruto\",1.2]]\n",
        "d"
      ],
      "metadata": {
        "colab": {
          "base_uri": "https://localhost:8080/"
        },
        "id": "lYGkUNDVTSVd",
        "outputId": "a572f22c-622f-42a6-e420-88bc5544e237"
      },
      "execution_count": null,
      "outputs": [
        {
          "output_type": "execute_result",
          "data": {
            "text/plain": [
              "[2, 3, ['naruto', 1.2]]"
            ]
          },
          "metadata": {},
          "execution_count": 18
        }
      ]
    },
    {
      "cell_type": "code",
      "source": [
        "a=[[1,2],[\"a\",\"b\"]]\n",
        "a"
      ],
      "metadata": {
        "colab": {
          "base_uri": "https://localhost:8080/"
        },
        "id": "KBn6L8y0Tb1Q",
        "outputId": "0e91e2ed-0315-4226-96b9-b51e63b5534b"
      },
      "execution_count": null,
      "outputs": [
        {
          "output_type": "execute_result",
          "data": {
            "text/plain": [
              "[[1, 2], ['a', 'b']]"
            ]
          },
          "metadata": {},
          "execution_count": 5
        }
      ]
    },
    {
      "cell_type": "code",
      "source": [
        "letter=[\"a\",\"b\",\"c\",\"d\"]\n",
        "stg=[\"python\",\"list\"]\n",
        "conc=letter+stg\n",
        "print (conc)"
      ],
      "metadata": {
        "colab": {
          "base_uri": "https://localhost:8080/"
        },
        "id": "sOCoqDhEW-ek",
        "outputId": "dbabdb7a-f340-4c11-c950-344514a1ec04"
      },
      "execution_count": null,
      "outputs": [
        {
          "output_type": "stream",
          "name": "stdout",
          "text": [
            "['a', 'b', 'c', 'd', 'python', 'list']\n"
          ]
        }
      ]
    },
    {
      "cell_type": "code",
      "source": [
        "a=list[\"python\"]\n",
        "a"
      ],
      "metadata": {
        "colab": {
          "base_uri": "https://localhost:8080/"
        },
        "id": "-DOHpKohXRdC",
        "outputId": "bba87b00-d8b8-4aa1-dadd-5e1d519891f8"
      },
      "execution_count": null,
      "outputs": [
        {
          "output_type": "execute_result",
          "data": {
            "text/plain": [
              "list['python']"
            ]
          },
          "metadata": {},
          "execution_count": 20
        }
      ]
    },
    {
      "cell_type": "code",
      "source": [
        "num=[9,2,3,4,5]\n",
        "\n",
        "print(num)\n",
        "a,b,*others=num\n",
        "print(others)"
      ],
      "metadata": {
        "colab": {
          "base_uri": "https://localhost:8080/"
        },
        "id": "vO9cU0tYXnTE",
        "outputId": "12f8cdb9-dd5f-46b7-851f-bebacd15e750"
      },
      "execution_count": null,
      "outputs": [
        {
          "output_type": "stream",
          "name": "stdout",
          "text": [
            "[9, 2, 3, 4, 5]\n",
            "[3, 4, 5]\n"
          ]
        }
      ]
    },
    {
      "cell_type": "code",
      "source": [
        "a=[\"apple\",\"bannana\",\"grapes\"]\n",
        "for i in a:\n",
        "  if i==\"grapes\":\n",
        "    continue\n",
        "\n",
        "  print(i)"
      ],
      "metadata": {
        "id": "occjKs3XZFxC"
      },
      "execution_count": null,
      "outputs": []
    },
    {
      "cell_type": "code",
      "source": [
        "x=[2,4,6,8,10]\n",
        "for i in x:\n",
        "  a= i*5\n",
        "  print(a)"
      ],
      "metadata": {
        "colab": {
          "base_uri": "https://localhost:8080/"
        },
        "id": "QR-Msc05bMMf",
        "outputId": "ed7c596a-b8ca-4dfc-ce5f-350236d85b25"
      },
      "execution_count": null,
      "outputs": [
        {
          "output_type": "stream",
          "name": "stdout",
          "text": [
            "10\n",
            "20\n",
            "30\n",
            "40\n",
            "50\n"
          ]
        }
      ]
    },
    {
      "cell_type": "code",
      "source": [
        "num=[1,2,3,4]\n",
        "print(num)\n",
        "num.append(6) #only one argument will give\n",
        "print(num)\n"
      ],
      "metadata": {
        "colab": {
          "base_uri": "https://localhost:8080/"
        },
        "id": "AOAHMHrMcGDd",
        "outputId": "4a520468-e115-4401-b966-443d49afbdcb"
      },
      "execution_count": null,
      "outputs": [
        {
          "output_type": "stream",
          "name": "stdout",
          "text": [
            "[1, 2, 3, 4]\n",
            "[1, 2, 3, 4, [9, 10, 100]]\n"
          ]
        }
      ]
    },
    {
      "cell_type": "code",
      "source": [
        "num=[1,2,3,4]\n",
        "stg=[\"puthon\",\"anaconda\"]\n",
        "print(stg)\n",
        "num.extend(stg)\n",
        "print(num) #will give more elements to extend append apdi kadaiyathu\n",
        "num.insert(4,\"list\") # 4-index positionla list add pananum\n",
        "num.insert(0,\"akash\")\n",
        "num.remove(4)\n",
        "print(num)\n"
      ],
      "metadata": {
        "colab": {
          "base_uri": "https://localhost:8080/"
        },
        "id": "--iMSOKkcyJF",
        "outputId": "81ebb878-f42f-4084-9df5-d09cfd0ada3c"
      },
      "execution_count": null,
      "outputs": [
        {
          "output_type": "stream",
          "name": "stdout",
          "text": [
            "['puthon', 'anaconda']\n",
            "[1, 2, 3, 4, 'puthon', 'anaconda']\n",
            "['akash', 1, 2, 3, 'list', 'puthon', 'anaconda']\n"
          ]
        }
      ]
    },
    {
      "cell_type": "code",
      "source": [
        "a=[\"x\",\"y\",\"f\",\"a\",\"b\"]\n",
        "a.sort() #ascending order\n",
        "print(a)\n",
        "a.sort(reverse=True)\n",
        "print(a)\n",
        "a.sort(reverse=False)\n",
        "print(a)"
      ],
      "metadata": {
        "colab": {
          "base_uri": "https://localhost:8080/"
        },
        "id": "jRTWPMjefROV",
        "outputId": "cfe14e5d-b3e5-453a-8839-f6b47704155e"
      },
      "execution_count": null,
      "outputs": [
        {
          "output_type": "stream",
          "name": "stdout",
          "text": [
            "['a', 'b', 'f', 'x', 'y']\n",
            "['y', 'x', 'f', 'b', 'a']\n",
            "['a', 'b', 'f', 'x', 'y']\n"
          ]
        }
      ]
    },
    {
      "cell_type": "code",
      "source": [
        "a=[9,17,14,4,80,55]\n",
        "print(len(a))\n",
        "print(min(a))\n",
        "print(max(a))\n",
        "print(sum(a)/len(a))"
      ],
      "metadata": {
        "colab": {
          "base_uri": "https://localhost:8080/"
        },
        "id": "t3M86dqNgVhj",
        "outputId": "27ddbe24-0ca8-4417-b3ea-eccee8fa2a3a"
      },
      "execution_count": null,
      "outputs": [
        {
          "output_type": "stream",
          "name": "stdout",
          "text": [
            "6\n",
            "4\n",
            "80\n",
            "29.833333333333332\n"
          ]
        }
      ]
    },
    {
      "cell_type": "code",
      "source": [
        "list1=list(range(1,11))\n",
        "print(list1)\n",
        "odd=list1[::2]#odd\n",
        "even=list1[1::2]#even\n",
        "print(odd)\n",
        "print(even)"
      ],
      "metadata": {
        "colab": {
          "base_uri": "https://localhost:8080/"
        },
        "id": "QkS0wO0ohIBA",
        "outputId": "be8d6f13-3255-4b68-c139-4912f3a79eeb"
      },
      "execution_count": null,
      "outputs": [
        {
          "output_type": "stream",
          "name": "stdout",
          "text": [
            "[1, 2, 3, 4, 5, 6, 7, 8, 9, 10]\n",
            "[1, 3, 5, 7, 9]\n",
            "[2, 4, 6, 8, 10]\n"
          ]
        }
      ]
    },
    {
      "cell_type": "code",
      "source": [
        "a=10.67\n",
        "print(a,type)\n",
        "b=int(a)\n",
        "print(b,(type(b)))"
      ],
      "metadata": {
        "id": "Qx8rIiWRm10O"
      },
      "execution_count": null,
      "outputs": []
    },
    {
      "cell_type": "code",
      "source": [
        "\n",
        "x=17.56+20j\n",
        "y=x.real\n",
        "print(y)\n",
        "z=int(x.real)\n",
        "print(\"z\",z)\n",
        "print(x.imag)\n"
      ],
      "metadata": {
        "colab": {
          "base_uri": "https://localhost:8080/"
        },
        "id": "DCZtF2DTnA9c",
        "outputId": "3c0ef056-98b1-407f-87ad-12c662952e03"
      },
      "execution_count": null,
      "outputs": [
        {
          "output_type": "stream",
          "name": "stdout",
          "text": [
            "17.56\n",
            "z 17\n",
            "20.0\n"
          ]
        }
      ]
    },
    {
      "cell_type": "code",
      "source": [
        "a=\n",
        "print()"
      ],
      "metadata": {
        "id": "kxr0Axg4riTj"
      },
      "execution_count": null,
      "outputs": []
    },
    {
      "cell_type": "code",
      "source": [
        "Tuple=(\"hello ,i\")\n",
        "n=3\n",
        "for i in range(int(n)):\n",
        "  Tuple=(Tuple,) #1 loop one tuple 2 loop-2 tuple 3 loop -3 tuple\n",
        "  print(Tuple)"
      ],
      "metadata": {
        "colab": {
          "base_uri": "https://localhost:8080/"
        },
        "id": "6KRfdalqWlgx",
        "outputId": "93334ae4-057c-414b-cdea-77b68336675b"
      },
      "execution_count": null,
      "outputs": [
        {
          "output_type": "stream",
          "name": "stdout",
          "text": [
            "('hello ,i',)\n",
            "(('hello ,i',),)\n",
            "((('hello ,i',),),)\n"
          ]
        }
      ]
    },
    {
      "cell_type": "code",
      "source": [
        "tuple=('developer',5,8,9,'r',8)\n",
        "print(len(tuple))\n",
        "print(tuple)"
      ],
      "metadata": {
        "colab": {
          "base_uri": "https://localhost:8080/"
        },
        "id": "-bcXtlKJXSIW",
        "outputId": "aa426901-a289-4566-d5dd-ab4168c9c718"
      },
      "execution_count": null,
      "outputs": [
        {
          "output_type": "stream",
          "name": "stdout",
          "text": [
            "6\n",
            "('developer', 5, 8, 9, 'r', 8)\n"
          ]
        }
      ]
    },
    {
      "cell_type": "code",
      "source": [
        "tuple=(9,5,89,4,8)\n",
        "tuple1=(0,1) #\n",
        "tuple2=()#\n",
        "tuple3=(0,1)\n",
        "print(max(tuple))\n",
        "print(min(tuple))\n",
        "print(sorted(tuple))\n",
        "\n",
        "\n",
        "print(any(tuple1)) #any-or operator so1 irruku true\n",
        "print(any(tuple2)) #empty-false any-or operator\n",
        "print(all(tuple3)) #all-and operator  rendume  1 irruntha pothumm"
      ],
      "metadata": {
        "colab": {
          "base_uri": "https://localhost:8080/"
        },
        "id": "bpNOrTlBX6eV",
        "outputId": "2ef8ce9a-f6f0-41a7-8c68-f2eb0da38704"
      },
      "execution_count": null,
      "outputs": [
        {
          "output_type": "stream",
          "name": "stdout",
          "text": [
            "89\n",
            "4\n",
            "[4, 5, 8, 9, 89]\n",
            "True\n",
            "False\n",
            "False\n"
          ]
        }
      ]
    },
    {
      "cell_type": "code",
      "source": [
        "tuple=(3,7,'s','h',9.5,'s')\n",
        "print(tuple.count(7))\n",
        "print(tuple.count('s'))\n",
        "print(tuple.count(5))\n",
        "print(tuple.index(9.5))\n",
        "print(tuple.index('h'))"
      ],
      "metadata": {
        "colab": {
          "base_uri": "https://localhost:8080/"
        },
        "id": "gqY6UCr7cQFd",
        "outputId": "2dde3ffb-2a3a-497f-8a07-d9dba3e543d4"
      },
      "execution_count": null,
      "outputs": [
        {
          "output_type": "stream",
          "name": "stdout",
          "text": [
            "1\n",
            "2\n",
            "0\n",
            "4\n",
            "3\n"
          ]
        }
      ]
    },
    {
      "cell_type": "code",
      "source": [
        "n = 4*4\n",
        "for i in range(1, rows+1):\n",
        "  print(\"*\")"
      ],
      "metadata": {
        "colab": {
          "base_uri": "https://localhost:8080/",
          "height": 176
        },
        "id": "Iy22Jvwt2h3c",
        "outputId": "bddd49c9-bac9-489c-d7e1-636cc2656de7"
      },
      "execution_count": null,
      "outputs": [
        {
          "output_type": "error",
          "ename": "NameError",
          "evalue": "name 'rows' is not defined",
          "traceback": [
            "\u001b[0;31m---------------------------------------------------------------------------\u001b[0m",
            "\u001b[0;31mNameError\u001b[0m                                 Traceback (most recent call last)",
            "\u001b[0;32m<ipython-input-45-0a04b0e6cde1>\u001b[0m in \u001b[0;36m<cell line: 2>\u001b[0;34m()\u001b[0m\n\u001b[1;32m      1\u001b[0m \u001b[0mn\u001b[0m \u001b[0;34m=\u001b[0m \u001b[0;36m4\u001b[0m\u001b[0;34m*\u001b[0m\u001b[0;36m4\u001b[0m\u001b[0;34m\u001b[0m\u001b[0;34m\u001b[0m\u001b[0m\n\u001b[0;32m----> 2\u001b[0;31m \u001b[0;32mfor\u001b[0m \u001b[0mi\u001b[0m \u001b[0;32min\u001b[0m \u001b[0mrange\u001b[0m\u001b[0;34m(\u001b[0m\u001b[0;36m1\u001b[0m\u001b[0;34m,\u001b[0m \u001b[0mrows\u001b[0m\u001b[0;34m+\u001b[0m\u001b[0;36m1\u001b[0m\u001b[0;34m)\u001b[0m\u001b[0;34m:\u001b[0m\u001b[0;34m\u001b[0m\u001b[0;34m\u001b[0m\u001b[0m\n\u001b[0m\u001b[1;32m      3\u001b[0m   \u001b[0mprint\u001b[0m\u001b[0;34m(\u001b[0m\u001b[0;34m\"*\"\u001b[0m\u001b[0;34m)\u001b[0m\u001b[0;34m\u001b[0m\u001b[0;34m\u001b[0m\u001b[0m\n",
            "\u001b[0;31mNameError\u001b[0m: name 'rows' is not defined"
          ]
        }
      ]
    },
    {
      "cell_type": "code",
      "source": [
        "n = 6\n",
        "for i in range(n):\n",
        "    for j in range(n):\n",
        "        print(\"*\", end=\"\")\n",
        "    print()"
      ],
      "metadata": {
        "colab": {
          "base_uri": "https://localhost:8080/"
        },
        "id": "shx_hLNy2yu9",
        "outputId": "99dd456b-6fa6-4e7d-9973-2375fb1c7eb0"
      },
      "execution_count": null,
      "outputs": [
        {
          "output_type": "stream",
          "name": "stdout",
          "text": [
            "******\n",
            "******\n",
            "******\n",
            "******\n",
            "******\n",
            "******\n"
          ]
        }
      ]
    },
    {
      "cell_type": "code",
      "source": [
        "for i in range(4):\n",
        "  for j in range(4):\n",
        "       print(\"*\",end=\"\")\n",
        "  print()\n"
      ],
      "metadata": {
        "colab": {
          "base_uri": "https://localhost:8080/"
        },
        "id": "eMHG80Mq4wW0",
        "outputId": "42c20328-d82c-4612-965c-45fb63e98d17"
      },
      "execution_count": null,
      "outputs": [
        {
          "output_type": "stream",
          "name": "stdout",
          "text": [
            "****\n",
            "****\n",
            "****\n",
            "****\n"
          ]
        }
      ]
    },
    {
      "cell_type": "code",
      "source": [
        "for i in range(4):\n",
        "  for j in range(1,i+2):#1,2\n",
        "       print(\"*\",end=\"\")\n",
        "  print()\n"
      ],
      "metadata": {
        "id": "cRugvskZ98cR",
        "colab": {
          "base_uri": "https://localhost:8080/"
        },
        "outputId": "ceb21591-e4da-4cdd-c3a2-fdb7c25339af"
      },
      "execution_count": null,
      "outputs": [
        {
          "output_type": "stream",
          "name": "stdout",
          "text": [
            "*\n",
            "**\n",
            "***\n",
            "****\n"
          ]
        }
      ]
    },
    {
      "cell_type": "code",
      "source": [
        "n=4\n",
        "for i in range(1,n+1):\n",
        "  for j in range(1,i+1):\n",
        "    print(\"*\",end=\"\")\n",
        "  print()\n"
      ],
      "metadata": {
        "colab": {
          "base_uri": "https://localhost:8080/"
        },
        "id": "EvFp59JDDN_B",
        "outputId": "3159091e-7a14-422f-a042-4bdec5521563"
      },
      "execution_count": null,
      "outputs": [
        {
          "output_type": "stream",
          "name": "stdout",
          "text": [
            "*\n",
            "**\n",
            "***\n",
            "****\n"
          ]
        }
      ]
    },
    {
      "cell_type": "code",
      "source": [
        "n=4\n",
        "for i in range(5):\n",
        "  for j in range(6):\n",
        "\n",
        "      print(\"*\",end=\"\")\n",
        "  print()"
      ],
      "metadata": {
        "colab": {
          "base_uri": "https://localhost:8080/"
        },
        "id": "sc7wexdTDsFT",
        "outputId": "31d57119-acb1-4ff7-9a4b-15159a2582c3"
      },
      "execution_count": null,
      "outputs": [
        {
          "output_type": "stream",
          "name": "stdout",
          "text": [
            "******\n",
            "******\n",
            "******\n",
            "******\n",
            "******\n"
          ]
        }
      ]
    },
    {
      "cell_type": "code",
      "source": [
        "for i in range(4):\n",
        "  for j in range(5):\n",
        "    if i==0 or  j==4:\n",
        "      print(\"*\",end=\"\")\n",
        "    if i==3 or j==3:\n",
        "      print(\"*\",end=\"\")\n",
        "  print()"
      ],
      "metadata": {
        "colab": {
          "base_uri": "https://localhost:8080/"
        },
        "id": "IUpUB5efEUNB",
        "outputId": "14f4a8e2-400a-4935-a1c3-652e1670da56"
      },
      "execution_count": null,
      "outputs": [
        {
          "output_type": "stream",
          "name": "stdout",
          "text": [
            "******\n",
            "**\n",
            "**\n",
            "******\n"
          ]
        }
      ]
    },
    {
      "cell_type": "code",
      "source": [
        "n = 4\n",
        "for i in range(n):\n",
        "    for j in range(n):\n",
        "        if i == 0 or i == n - 1 or j == 0  or j==3:\n",
        "            print(\"*\", end=\"\")\n",
        "        else:\n",
        "            print(\" \", end=\"\")\n",
        "    print()"
      ],
      "metadata": {
        "colab": {
          "base_uri": "https://localhost:8080/"
        },
        "id": "0dS1DZV2KBJV",
        "outputId": "a6e4ce0f-122f-4695-ec01-dbf136cfe2e7"
      },
      "execution_count": null,
      "outputs": [
        {
          "output_type": "stream",
          "name": "stdout",
          "text": [
            "****\n",
            "*  *\n",
            "*  *\n",
            "****\n"
          ]
        }
      ]
    },
    {
      "cell_type": "code",
      "source": [
        "a=[10,20,30,40,50]\n",
        "for i in a:\n",
        "  print(i,end=\" \")"
      ],
      "metadata": {
        "colab": {
          "base_uri": "https://localhost:8080/"
        },
        "id": "bpl2YLeVJbEs",
        "outputId": "86ac0eef-5e91-47c6-eba2-6e425724d54c"
      },
      "execution_count": null,
      "outputs": [
        {
          "output_type": "stream",
          "name": "stdout",
          "text": [
            "10 20 30 40 50 "
          ]
        }
      ]
    },
    {
      "cell_type": "code",
      "source": [
        "for i in a:\n",
        "  print(\"i\",i)\n",
        "  if i==30:\n",
        "    print(\"hello world\")\n",
        "    break\n",
        "  else:\n",
        "    print(\"stop\")"
      ],
      "metadata": {
        "colab": {
          "base_uri": "https://localhost:8080/"
        },
        "id": "DnsAy9EwKsAC",
        "outputId": "7c53ef2e-8cf7-4140-eb0f-e217b2f549ff"
      },
      "execution_count": null,
      "outputs": [
        {
          "output_type": "stream",
          "name": "stdout",
          "text": [
            "i a\n",
            "stop\n",
            "i b\n",
            "stop\n",
            "i f\n",
            "stop\n",
            "i x\n",
            "stop\n",
            "i y\n",
            "stop\n"
          ]
        }
      ]
    },
    {
      "cell_type": "code",
      "source": [
        "for i in range(len(a)):\n",
        "  if a[i]==30:\n",
        "    print(i)\n",
        "    break"
      ],
      "metadata": {
        "id": "2dLLozarLfLn"
      },
      "execution_count": null,
      "outputs": []
    },
    {
      "cell_type": "code",
      "source": [
        "Tuple=('hello')\n",
        "print(Tuple)\n",
        "print(type(Tuple))"
      ],
      "metadata": {
        "colab": {
          "base_uri": "https://localhost:8080/"
        },
        "id": "8wOVOMIwO9VJ",
        "outputId": "fe27661e-8bb3-4694-d78b-395f213d03c8"
      },
      "execution_count": null,
      "outputs": [
        {
          "output_type": "stream",
          "name": "stdout",
          "text": [
            "hello\n",
            "<class 'str'>\n"
          ]
        }
      ]
    },
    {
      "cell_type": "markdown",
      "source": [
        "Concatrnation Tuple\n"
      ],
      "metadata": {
        "id": "mk4LKMJr4AFO"
      }
    },
    {
      "cell_type": "code",
      "source": [
        "#concatenation\n",
        "value1=(26,45,\"hai\")\n",
        "value2=7,5.6,\"python\"\n",
        "print(value1+value2)"
      ],
      "metadata": {
        "colab": {
          "base_uri": "https://localhost:8080/"
        },
        "id": "i09ZrsbK4DNM",
        "outputId": "a4a3e1da-0252-4e1d-84cc-135bdc32f549"
      },
      "execution_count": null,
      "outputs": [
        {
          "output_type": "stream",
          "name": "stdout",
          "text": [
            "(26, 45, 'hai', 7, 5.6, 'python')\n"
          ]
        }
      ]
    },
    {
      "cell_type": "code",
      "source": [
        "value_tuple=(26,79,80,\"parveen wife\",\"praveen punda\")\n",
        "val_list=list(value_tuple)\n",
        "print(val_list)\n",
        "print(val_list.remove(26))"
      ],
      "metadata": {
        "colab": {
          "base_uri": "https://localhost:8080/"
        },
        "id": "fz06fKvq6kAk",
        "outputId": "2c38d3f9-fb7c-491b-9224-ef9eccd1e91b"
      },
      "execution_count": null,
      "outputs": [
        {
          "output_type": "stream",
          "name": "stdout",
          "text": [
            "[26, 79, 80, 'parveen wife', 'praveen punda']\n",
            "None\n"
          ]
        }
      ]
    },
    {
      "cell_type": "code",
      "source": [
        "num=[3,10,20,30]\n",
        "print(sum(num))"
      ],
      "metadata": {
        "colab": {
          "base_uri": "https://localhost:8080/"
        },
        "id": "02tA4q4pderW",
        "outputId": "fef2e315-5cd0-431b-fdf9-0dbabb34103d"
      },
      "execution_count": null,
      "outputs": [
        {
          "output_type": "stream",
          "name": "stdout",
          "text": [
            "63\n"
          ]
        }
      ]
    },
    {
      "cell_type": "code",
      "source": [
        "numbers = [1, 7, 2, 5, -1]\n",
        "\n",
        "stringified = (map(str, numbers))\n",
        "\n",
        "print(max(stringified))\n"
      ],
      "metadata": {
        "colab": {
          "base_uri": "https://localhost:8080/"
        },
        "id": "T_XnDkWwe7ik",
        "outputId": "1b885346-5de3-4fb6-cf74-a1ccf60de960"
      },
      "execution_count": null,
      "outputs": [
        {
          "output_type": "stream",
          "name": "stdout",
          "text": [
            "7\n"
          ]
        }
      ]
    },
    {
      "cell_type": "code",
      "source": [
        "number=3,10,20,30\n",
        "mp=list(map(int,number))\n",
        "print(sum(mp))"
      ],
      "metadata": {
        "colab": {
          "base_uri": "https://localhost:8080/"
        },
        "id": "xB1xG2elge-E",
        "outputId": "63a1ddf1-4eb9-437b-f5a5-41a5adccd15d"
      },
      "execution_count": null,
      "outputs": [
        {
          "output_type": "stream",
          "name": "stdout",
          "text": [
            "63\n"
          ]
        }
      ]
    },
    {
      "cell_type": "code",
      "source": [
        "size_of_list = int(input())  # Input the size of the list\n",
        "list_1 = list(map(int, input().split()))  # Input the list of integers\n",
        "\n",
        "# To print the original list\n",
        "print(list_1)\n",
        "\n",
        "# To find unique elements\n",
        "unique = []\n",
        "for item in list_1:\n",
        "    if item not in unique:\n",
        "        unique.append(item)\n",
        "\n",
        "# To print the unique elements\n",
        "print(unique)\n"
      ],
      "metadata": {
        "id": "WMRPUKLEg5C6",
        "colab": {
          "base_uri": "https://localhost:8080/"
        },
        "outputId": "7559b06a-3490-41da-8caf-88b580d4e302"
      },
      "execution_count": null,
      "outputs": [
        {
          "output_type": "stream",
          "name": "stdout",
          "text": [
            "6\n",
            "78\n",
            "[78]\n",
            "[78]\n"
          ]
        }
      ]
    },
    {
      "cell_type": "code",
      "source": [
        "tuple=(9,5,89,8)\n",
        "print(max(tuple))"
      ],
      "metadata": {
        "colab": {
          "base_uri": "https://localhost:8080/"
        },
        "id": "Ks2laR4jC5wH",
        "outputId": "5d37a6c6-db08-411f-8759-a091cfb7cfe1"
      },
      "execution_count": null,
      "outputs": [
        {
          "output_type": "stream",
          "name": "stdout",
          "text": [
            "89\n"
          ]
        }
      ]
    },
    {
      "cell_type": "code",
      "source": [
        "a=(1,23,4)\n",
        "print(a)"
      ],
      "metadata": {
        "colab": {
          "base_uri": "https://localhost:8080/"
        },
        "id": "HMKn0teEJtC9",
        "outputId": "795db7de-5edd-4ca2-ab30-a5ccb305155a"
      },
      "execution_count": null,
      "outputs": [
        {
          "output_type": "stream",
          "name": "stdout",
          "text": [
            "(1, 23, 4)\n"
          ]
        }
      ]
    },
    {
      "cell_type": "code",
      "source": [
        "value=()\n",
        "n=int(input())\n",
        "list_1=[]\n",
        "for i in range(n):\n",
        "    a=int(input())\n",
        "    list_1.append(int(input()))\n",
        "value=print(list_1)\n"
      ],
      "metadata": {
        "colab": {
          "base_uri": "https://localhost:8080/"
        },
        "id": "g4EZBgmdIWeN",
        "outputId": "b2aa2a16-3d58-4461-8665-c98252b09acc"
      },
      "execution_count": null,
      "outputs": [
        {
          "output_type": "stream",
          "name": "stdout",
          "text": [
            "1\n",
            "2\n",
            "4\n",
            "[4]\n"
          ]
        }
      ]
    },
    {
      "cell_type": "code",
      "source": [
        "value_set=set()\n",
        "n=int(input())\n",
        "for i in range(n):\n",
        "  value_set.add(int(input()))\n",
        "print(value_set)"
      ],
      "metadata": {
        "id": "CsypIon9lvjp",
        "colab": {
          "base_uri": "https://localhost:8080/"
        },
        "outputId": "6b82cc86-85af-430d-f328-4438f88354b0"
      },
      "execution_count": null,
      "outputs": [
        {
          "output_type": "stream",
          "name": "stdout",
          "text": [
            "4\n",
            "5\n",
            "6\n",
            "7\n",
            "8\n",
            "{8, 5, 6, 7}\n"
          ]
        }
      ]
    },
    {
      "cell_type": "markdown",
      "source": [
        "write a program to check whether the element got from the user is present in the value_set"
      ],
      "metadata": {
        "id": "i2qHKk2F9KvK"
      }
    },
    {
      "cell_type": "code",
      "source": [
        "x=int(input())\n",
        "value_set={6,12,26,10}\n",
        "print(x in value_set)\n"
      ],
      "metadata": {
        "colab": {
          "base_uri": "https://localhost:8080/"
        },
        "id": "CfNgOBAJ8AIA",
        "outputId": "41bcd00a-246d-4295-9fcf-82909a0aa88f"
      },
      "execution_count": null,
      "outputs": [
        {
          "output_type": "stream",
          "name": "stdout",
          "text": [
            "3\n",
            "False\n"
          ]
        }
      ]
    },
    {
      "cell_type": "code",
      "source": [],
      "metadata": {
        "id": "2Rbl64J49WfS"
      },
      "execution_count": null,
      "outputs": []
    },
    {
      "cell_type": "code",
      "source": [
        "x=int(input())\n",
        "\n",
        "value_set={6,12,26,10}\n",
        "val_set=list(value_set)\n",
        "print(val_set)\n",
        "print(x in value_set)\n"
      ],
      "metadata": {
        "colab": {
          "base_uri": "https://localhost:8080/"
        },
        "outputId": "f535a8c8-1d77-4c3d-ddb2-b6c518660fa4",
        "id": "Xdtf-h119XjE"
      },
      "execution_count": null,
      "outputs": [
        {
          "output_type": "stream",
          "name": "stdout",
          "text": [
            "3\n",
            "[26, 10, 12, 6]\n",
            "False\n"
          ]
        }
      ]
    },
    {
      "cell_type": "markdown",
      "source": [
        "Union of two set\n"
      ],
      "metadata": {
        "id": "UnB_txRf9zJj"
      }
    },
    {
      "cell_type": "code",
      "source": [
        "month1_set={\"jan\",\"feb\",\"dec\",\"mar\"}\n",
        "month2_set={\"may\",\"jan\",\"oct\",\"mar\"}\n",
        "month_common=month1_set.union(month2_set)\n",
        "print(month_common)"
      ],
      "metadata": {
        "colab": {
          "base_uri": "https://localhost:8080/"
        },
        "id": "qQhlxtDq9nj9",
        "outputId": "da08734e-6ce0-4637-8f21-2001d490246e"
      },
      "execution_count": null,
      "outputs": [
        {
          "output_type": "stream",
          "name": "stdout",
          "text": [
            "{'dec', 'feb', 'oct', 'mar', 'jan', 'may'}\n"
          ]
        }
      ]
    },
    {
      "cell_type": "markdown",
      "source": [
        "Intersection of two set\n"
      ],
      "metadata": {
        "id": "QWMLEc1D-zGb"
      }
    },
    {
      "cell_type": "code",
      "source": [],
      "metadata": {
        "id": "RkG33YE0-2uB"
      },
      "execution_count": null,
      "outputs": []
    },
    {
      "cell_type": "code",
      "source": [
        "month1_set={\"jan\",\"feb\",\"dec\",\"mar\"}\n",
        "month2_set={\"may\",\"jan\",\"oct\",\"mar\"}\n",
        "month_common=month1_set.intersection(month2_set)\n",
        "print(month_common)"
      ],
      "metadata": {
        "colab": {
          "base_uri": "https://localhost:8080/"
        },
        "outputId": "92df12f8-7437-4e5a-fd93-02d5a2442897",
        "id": "KxssEhHJ-4PP"
      },
      "execution_count": null,
      "outputs": [
        {
          "output_type": "stream",
          "name": "stdout",
          "text": [
            "{'jan', 'mar'}\n"
          ]
        }
      ]
    },
    {
      "cell_type": "markdown",
      "source": [
        "biwise or\n"
      ],
      "metadata": {
        "id": "PNbTaz-W-_uE"
      }
    },
    {
      "cell_type": "markdown",
      "source": [
        "Union sign |"
      ],
      "metadata": {
        "id": "Ipkvdkrp_ZUK"
      }
    },
    {
      "cell_type": "code",
      "source": [],
      "metadata": {
        "id": "Z47HW5V1_Dkb"
      },
      "execution_count": null,
      "outputs": []
    },
    {
      "cell_type": "code",
      "source": [
        "month1_set={\"jan\",\"feb\",\"dec\",\"mar\"}\n",
        "month2_set={\"may\",\"jan\",\"oct\",\"mar\"}\n",
        "month_common=month1_set | month2_set\n",
        "print(month_common)"
      ],
      "metadata": {
        "colab": {
          "base_uri": "https://localhost:8080/"
        },
        "outputId": "fa723a8a-ef7b-44ff-e668-ba7d96fbabfd",
        "id": "xGp9QI6g_D5E"
      },
      "execution_count": null,
      "outputs": [
        {
          "output_type": "stream",
          "name": "stdout",
          "text": [
            "{'dec', 'feb', 'oct', 'mar', 'jan', 'may'}\n"
          ]
        }
      ]
    },
    {
      "cell_type": "markdown",
      "source": [
        "  And intersection symbol &\n",
        "  "
      ],
      "metadata": {
        "id": "vqgWFBhf_nny"
      }
    },
    {
      "cell_type": "code",
      "source": [],
      "metadata": {
        "id": "yus5SDpW_ikR"
      },
      "execution_count": null,
      "outputs": []
    },
    {
      "cell_type": "code",
      "source": [
        "month1_set={\"jan\",\"feb\",\"dec\",\"mar\"}\n",
        "month2_set={\"may\",\"jan\",\"oct\",\"mar\"}\n",
        "month_common=month1_set & month2_set\n",
        "print(month_common)"
      ],
      "metadata": {
        "colab": {
          "base_uri": "https://localhost:8080/"
        },
        "outputId": "592c8198-f154-4f1b-8907-76a1908fcd08",
        "id": "kzG_--gM_kA6"
      },
      "execution_count": null,
      "outputs": [
        {
          "output_type": "stream",
          "name": "stdout",
          "text": [
            "{'jan', 'mar'}\n"
          ]
        }
      ]
    },
    {
      "cell_type": "markdown",
      "source": [
        "Set Difference\n",
        "\n"
      ],
      "metadata": {
        "id": "RIIBxZfpByOk"
      }
    },
    {
      "cell_type": "code",
      "source": [],
      "metadata": {
        "id": "O5lQ2TSUB4_5"
      },
      "execution_count": null,
      "outputs": []
    },
    {
      "cell_type": "code",
      "source": [
        "month1_set={\"jan\",\"feb\",\"dec\",\"mar\"}\n",
        "month2_set={\"may\",\"jan\",\"oct\",\"mar\"}\n",
        "month_common=month1_set - month2_set\n",
        "print(month_common)"
      ],
      "metadata": {
        "colab": {
          "base_uri": "https://localhost:8080/"
        },
        "outputId": "b251695b-5e49-4258-ae90-016c0b1d416c",
        "id": "UyLgIRNzB8KJ"
      },
      "execution_count": null,
      "outputs": [
        {
          "output_type": "stream",
          "name": "stdout",
          "text": [
            "{'dec', 'feb'}\n"
          ]
        }
      ]
    },
    {
      "cell_type": "markdown",
      "source": [
        "Set comaprison\n"
      ],
      "metadata": {
        "id": "-IYny31BCHB7"
      }
    },
    {
      "cell_type": "code",
      "source": [],
      "metadata": {
        "id": "cT_6Frb7CKvi"
      },
      "execution_count": null,
      "outputs": []
    },
    {
      "cell_type": "code",
      "source": [
        "month1_set={\"jan\",\"feb\",\"dec\",\"mar\"}\n",
        "month2_set={\"may\",\"jan\",\"oct\",\"mar\"}\n",
        "month_common=month1_set > month2_set\n",
        "print(month_common)"
      ],
      "metadata": {
        "colab": {
          "base_uri": "https://localhost:8080/"
        },
        "outputId": "c732c80a-c615-4b95-fdb1-3023be2518cc",
        "id": "tw3dWaLnCMM4"
      },
      "execution_count": null,
      "outputs": [
        {
          "output_type": "stream",
          "name": "stdout",
          "text": [
            "False\n"
          ]
        }
      ]
    },
    {
      "cell_type": "code",
      "source": [],
      "metadata": {
        "id": "Sw1gO0wOCP8x"
      },
      "execution_count": null,
      "outputs": []
    },
    {
      "cell_type": "code",
      "source": [
        "month1_set={\"jan\",\"feb\",\"dec\",\"mar\"}\n",
        "month2_set={\"may\",\"jan\",\"oct\",\"mar\"}\n",
        "month_common=month1_set < month2_set\n",
        "print(month_common)"
      ],
      "metadata": {
        "colab": {
          "base_uri": "https://localhost:8080/"
        },
        "outputId": "700ef84e-5e95-49ad-df20-3919f52ac826",
        "id": "HZEUre4QCQOW"
      },
      "execution_count": null,
      "outputs": [
        {
          "output_type": "stream",
          "name": "stdout",
          "text": [
            "False\n"
          ]
        }
      ]
    },
    {
      "cell_type": "code",
      "source": [
        "# List of names\n",
        "names = [\"Sophia\", \"Ethan\", \"Olivia\", \"Liam\", \"Ava\", \"Mason\", \"Isabella\", \"Lucas\"]\n",
        "\n",
        "# Sort names in alphabetical order\n",
        "sorted_names = sorted(names)\n",
        "print(\"sort\",sorted_names)\n",
        "# Print the sorted names\n",
        "print(\"Names in alphabetical order:\")\n",
        "for name in sorted_names:\n",
        "    print(name)\n"
      ],
      "metadata": {
        "id": "g7hO1SOmEyg1",
        "outputId": "58f80fa1-23b3-49cd-bdca-cb8d90c1374a",
        "colab": {
          "base_uri": "https://localhost:8080/"
        }
      },
      "execution_count": null,
      "outputs": [
        {
          "output_type": "stream",
          "name": "stdout",
          "text": [
            "sort ['Ava', 'Ethan', 'Isabella', 'Liam', 'Lucas', 'Mason', 'Olivia', 'Sophia']\n",
            "Names in alphabetical order:\n",
            "Ava\n",
            "Ethan\n",
            "Isabella\n",
            "Liam\n",
            "Lucas\n",
            "Mason\n",
            "Olivia\n",
            "Sophia\n"
          ]
        }
      ]
    },
    {
      "cell_type": "code",
      "source": [
        "dic={1:(2,4,5),\"Name\":\"Face\",4:[5,7]}\n",
        "print(dic)"
      ],
      "metadata": {
        "colab": {
          "base_uri": "https://localhost:8080/"
        },
        "id": "LEo6205tJ0r4",
        "outputId": "e089e613-4cd3-4127-c602-4d441c3deaa7"
      },
      "execution_count": null,
      "outputs": [
        {
          "output_type": "stream",
          "name": "stdout",
          "text": [
            "{1: (2, 4, 5), 'Name': 'Face', 4: [5, 7]}\n"
          ]
        }
      ]
    },
    {
      "cell_type": "code",
      "source": [
        "dic=dict([(1,2),(\"Name\",\"Face\"),(4,5)])\n",
        "print(\"dic\",dic)"
      ],
      "metadata": {
        "colab": {
          "base_uri": "https://localhost:8080/"
        },
        "id": "UjEK5bwhPYlj",
        "outputId": "8f95a69c-78f0-4871-adaa-399e2834d000"
      },
      "execution_count": null,
      "outputs": [
        {
          "output_type": "stream",
          "name": "stdout",
          "text": [
            "dic {1: 2, 'Name': 'Face', 4: 5}\n"
          ]
        }
      ]
    },
    {
      "cell_type": "code",
      "source": [
        "dict1={0:\"Apple\",1:\"Hard\",3:\"Work\"}\n",
        "print(dict1)"
      ],
      "metadata": {
        "colab": {
          "base_uri": "https://localhost:8080/"
        },
        "id": "THQTUDyeQWs6",
        "outputId": "0a254188-7aeb-493c-d559-5658745e94c6"
      },
      "execution_count": null,
      "outputs": [
        {
          "output_type": "stream",
          "name": "stdout",
          "text": [
            "{0: 'Apple', 1: 'Hard', 3: 'Work'}\n"
          ]
        }
      ]
    },
    {
      "cell_type": "code",
      "source": [
        "dict={}\n",
        "dict[0]=\"Applke\"\n",
        "dict[1]=\"Hard\"\n",
        "dict[2]=\"work\"\n",
        "print(dic)\n",
        "dic['new_set']=1,5,8"
      ],
      "metadata": {
        "colab": {
          "base_uri": "https://localhost:8080/"
        },
        "id": "WmJ3ypuDRBNy",
        "outputId": "83217ec2-ae0b-436e-b949-628fd208820b"
      },
      "execution_count": null,
      "outputs": [
        {
          "output_type": "stream",
          "name": "stdout",
          "text": [
            "{1: 2, 'Name': 'Face', 4: 5}\n"
          ]
        }
      ]
    },
    {
      "cell_type": "code",
      "source": [
        "text=\"hello world\"\n",
        "uppercase_letters={char.upper() for char in text if char.isalpha}\n",
        "print(uppercase_letters)\n",
        "print(\"text\",text.isalpha)"
      ],
      "metadata": {
        "id": "q90V1b3hRwAF",
        "colab": {
          "base_uri": "https://localhost:8080/"
        },
        "outputId": "31acf527-a06f-4360-fc35-de2af144a628"
      },
      "execution_count": null,
      "outputs": [
        {
          "output_type": "stream",
          "name": "stdout",
          "text": [
            "{'O', ' ', 'L', 'E', 'H', 'D', 'R', 'W'}\n",
            "text <built-in method isalpha of str object at 0x7aa72e9005f0>\n"
          ]
        }
      ]
    },
    {
      "cell_type": "code",
      "source": [
        "dic={}\n",
        "for char in text:\n",
        "  if char.isalpha:\n",
        "    print(char.upper())\n"
      ],
      "metadata": {
        "colab": {
          "base_uri": "https://localhost:8080/"
        },
        "id": "pMiw9S_JI5yp",
        "outputId": "9eb883bf-41b8-4650-cd20-7a27f04f9dea"
      },
      "execution_count": null,
      "outputs": [
        {
          "output_type": "stream",
          "name": "stdout",
          "text": [
            "H\n",
            "E\n",
            "L\n",
            "L\n",
            "O\n",
            " \n",
            "W\n",
            "O\n",
            "R\n",
            "L\n",
            "D\n"
          ]
        }
      ]
    },
    {
      "cell_type": "code",
      "source": [
        "x=input()\n",
        "square={x:x**2 for x in range(5)}\n",
        "print(square)"
      ],
      "metadata": {
        "colab": {
          "base_uri": "https://localhost:8080/"
        },
        "id": "C8R4GcbLJaKi",
        "outputId": "eb0d1070-94dd-4357-fe3c-1299c82afcb3"
      },
      "execution_count": null,
      "outputs": [
        {
          "output_type": "stream",
          "name": "stdout",
          "text": [
            "2\n",
            "{0: 0, 1: 1, 2: 4, 3: 9, 4: 16}\n"
          ]
        }
      ]
    },
    {
      "cell_type": "code",
      "source": [
        "x=input()\n",
        "square={x:x**3 for x in range(9) if x%2==0}\n",
        "print(square)"
      ],
      "metadata": {
        "colab": {
          "base_uri": "https://localhost:8080/"
        },
        "id": "EBqCapiJKCFT",
        "outputId": "d90da80b-3c87-4656-8f62-c5ec2365c23d"
      },
      "execution_count": null,
      "outputs": [
        {
          "output_type": "stream",
          "name": "stdout",
          "text": [
            "5\n",
            "{0: 0, 2: 8, 4: 64, 6: 216, 8: 512}\n"
          ]
        }
      ]
    },
    {
      "cell_type": "code",
      "source": [
        "keys=[\"a\",\"b\",\"c\"]\n",
        "values=[1,2,3]\n",
        "my_dict={keys[i]:values[i] for i in range(len(keys))}\n",
        "range(len(keys))\n",
        "print(my_dict)"
      ],
      "metadata": {
        "colab": {
          "base_uri": "https://localhost:8080/"
        },
        "id": "iNGXJjj7LUiN",
        "outputId": "a93ca926-3f18-44ee-a0ea-3d4caac69d9b"
      },
      "execution_count": null,
      "outputs": [
        {
          "output_type": "stream",
          "name": "stdout",
          "text": [
            "{'a': 1, 'b': 2, 'c': 3}\n"
          ]
        }
      ]
    },
    {
      "cell_type": "markdown",
      "source": [
        "Swapping keys and values\n"
      ],
      "metadata": {
        "id": "yXNlniDYMOra"
      }
    },
    {
      "cell_type": "code",
      "source": [
        "\n",
        "\n",
        "original={'a':1,'b':2,'c':3}\n",
        "print(\"org_items\",original.items())\n",
        "swapped={v:k for k,v in original.items()}\n",
        "print(swapped)\n",
        "\n"
      ],
      "metadata": {
        "colab": {
          "base_uri": "https://localhost:8080/"
        },
        "id": "Ky32UBg3MLwM",
        "outputId": "d1178362-7487-4436-89c8-913e1c5b198f"
      },
      "execution_count": null,
      "outputs": [
        {
          "output_type": "stream",
          "name": "stdout",
          "text": [
            "org_items dict_items([('a', 1), ('b', 2), ('c', 3)])\n",
            "{1: 'a', 2: 'b', 3: 'c'}\n"
          ]
        }
      ]
    },
    {
      "cell_type": "markdown",
      "source": [
        "Filtering items based on value  value greater than 5 print\n"
      ],
      "metadata": {
        "id": "_dlBn9w8Nv9s"
      }
    },
    {
      "cell_type": "code",
      "source": [
        "original = {'a': 1, 'b': 2, 'c': 3, 'd': 4, 'e': 5}\n",
        "filtered = {k:v for k,v in original.items() if v>=5}\n",
        "filtered"
      ],
      "metadata": {
        "colab": {
          "base_uri": "https://localhost:8080/"
        },
        "id": "wp_lxwPjMgSa",
        "outputId": "870b04ca-6d85-4513-d78b-85d7a662aec7"
      },
      "execution_count": null,
      "outputs": [
        {
          "output_type": "execute_result",
          "data": {
            "text/plain": [
              "{'e': 5}"
            ]
          },
          "metadata": {},
          "execution_count": 23
        }
      ]
    },
    {
      "cell_type": "code",
      "source": [
        "k={}\n",
        "original = {'a': 1, 'b': 6, 'c': 3, 'd':10}\n",
        "filtered = {k:v for k,v in original.items() if v>=5}\n",
        "filtered\n"
      ],
      "metadata": {
        "colab": {
          "base_uri": "https://localhost:8080/"
        },
        "id": "dLBKQzEEOR_7",
        "outputId": "332664f0-a42c-45dc-ec70-a5152125a00d"
      },
      "execution_count": null,
      "outputs": [
        {
          "output_type": "stream",
          "name": "stdout",
          "text": [
            "appenddict akash\n",
            "k {'akash': 'akash'}\n"
          ]
        }
      ]
    },
    {
      "cell_type": "markdown",
      "source": [
        "Multiply Each value 10\n"
      ],
      "metadata": {
        "id": "CBe-IaICPZwk"
      }
    },
    {
      "cell_type": "code",
      "source": [
        "original={'a':1,'b':2,'c':3}\n",
        "transformed={k:v}"
      ],
      "metadata": {
        "id": "YPLpOTyAPc5S"
      },
      "execution_count": null,
      "outputs": []
    },
    {
      "cell_type": "markdown",
      "source": [
        "Nested Dictionary Comprehension\n"
      ],
      "metadata": {
        "id": "0o5-g9LBQv8V"
      }
    },
    {
      "cell_type": "code",
      "source": [
        "numbers={1,2,3,4}\n",
        "nested_dict={x:{'square':x**2,'cube':x**3} for x in numbers}\n",
        "print(nested_dict)"
      ],
      "metadata": {
        "colab": {
          "base_uri": "https://localhost:8080/"
        },
        "id": "R3QeRak0Q1_O",
        "outputId": "8338edff-783c-446b-fc57-2a2dbd08f55a"
      },
      "execution_count": null,
      "outputs": [
        {
          "output_type": "stream",
          "name": "stdout",
          "text": [
            "{1: {'square': 1, 'cube': 1}, 2: {'square': 4, 'cube': 8}, 3: {'square': 9, 'cube': 27}, 4: {'square': 16, 'cube': 64}}\n"
          ]
        }
      ]
    },
    {
      "cell_type": "markdown",
      "source": [
        "creating dictionary from two lists with a condition\n"
      ],
      "metadata": {
        "id": "AwNpGuImR-wU"
      }
    },
    {
      "cell_type": "code",
      "source": [
        "keys=['a','b','c','d']\n",
        "values=[1,2,3,4]\n",
        "filtered_dict={keys[i]:values[i] for i in range(len(keys)) if i%2==0}\n",
        "print(\"filter\",filtered_dict)"
      ],
      "metadata": {
        "colab": {
          "base_uri": "https://localhost:8080/"
        },
        "id": "V2avqycESE18",
        "outputId": "3030ff6b-a271-431b-f1b1-9a28616fddf7"
      },
      "execution_count": null,
      "outputs": [
        {
          "output_type": "stream",
          "name": "stdout",
          "text": [
            "filter {'a': 1, 'c': 3}\n"
          ]
        }
      ]
    },
    {
      "cell_type": "markdown",
      "source": [
        "Creating a dictionary from tuple"
      ],
      "metadata": {
        "id": "Z7awjEnvTfWT"
      }
    },
    {
      "cell_type": "code",
      "source": [
        "tuples=[('a',1),('b',2),('c',3)]\n",
        "my_dict={key:value for key,value in tuples}\n",
        "print(my_dict)"
      ],
      "metadata": {
        "colab": {
          "base_uri": "https://localhost:8080/"
        },
        "id": "meMd_reWTeCE",
        "outputId": "bd91beef-e1de-452d-905a-ec2991f00634"
      },
      "execution_count": null,
      "outputs": [
        {
          "output_type": "stream",
          "name": "stdout",
          "text": [
            "{'a': 1, 'b': 2, 'c': 3}\n"
          ]
        }
      ]
    },
    {
      "cell_type": "markdown",
      "source": [
        "Handling missing keys\n"
      ],
      "metadata": {
        "id": "PocplyiOUgtk"
      }
    },
    {
      "cell_type": "code",
      "source": [],
      "metadata": {
        "id": "BnGAc_s2VS8q"
      },
      "execution_count": null,
      "outputs": []
    },
    {
      "cell_type": "code",
      "source": [
        "# Handling missing keys(defalult value)\n",
        "keys=['a','b','c','d']\n",
        "values=[1,2,3]\n",
        "my_dict={k:values[i] if i<len(values) else 0 for i,k in  enumerate(keys)}\n",
        "print(my_dict)"
      ],
      "metadata": {
        "colab": {
          "base_uri": "https://localhost:8080/"
        },
        "id": "WZ6ZhFAfUiiq",
        "outputId": "a81e2401-0616-4087-c76c-c2876843eb26"
      },
      "execution_count": null,
      "outputs": [
        {
          "output_type": "stream",
          "name": "stdout",
          "text": [
            "{'a': 1, 'b': 2, 'c': 3, 'd': 0}\n"
          ]
        }
      ]
    },
    {
      "cell_type": "code",
      "source": [
        "# Handling missing keys(defalult value)\n",
        "keys=['a','b','c','d']\n",
        "values=[1,2,3]\n",
        "my_dict={k:values[i] for i,k in  enumerate(keys) if i<len(values) }\n",
        "print(my_dict)"
      ],
      "metadata": {
        "colab": {
          "base_uri": "https://localhost:8080/"
        },
        "id": "yFkOvYWcVXWC",
        "outputId": "50c28939-e482-4ecc-fa8d-c901c5a77ea8"
      },
      "execution_count": null,
      "outputs": [
        {
          "output_type": "stream",
          "name": "stdout",
          "text": [
            "{'a': 1, 'b': 2, 'c': 3}\n"
          ]
        }
      ]
    },
    {
      "cell_type": "code",
      "source": [
        "class car:\n",
        "  'common_car'\n",
        "  car=0\n",
        "  def __init__(self,name,id):\n",
        "    self.name=name\n",
        "    self.id=id\n",
        "    car.car+=1\n",
        "  def printcar(self):\n",
        "    print('name:',self.name,\"id:\",self.id)\n",
        "c=car(\"Audi\",200000)\n",
        "c.printcar()"
      ],
      "metadata": {
        "colab": {
          "base_uri": "https://localhost:8080/"
        },
        "id": "2UI7LTSgjByL",
        "outputId": "c334d0ad-c187-4f6e-cce9-579206036326"
      },
      "execution_count": null,
      "outputs": [
        {
          "output_type": "stream",
          "name": "stdout",
          "text": [
            "name: Audi id: 200000\n"
          ]
        }
      ]
    },
    {
      "cell_type": "code",
      "source": [
        "class Bird:\n",
        "  def __init__(self,birddt,colorsdt):\n",
        "    self.bird=birddt\n",
        "    self.color=colorsdt\n",
        "  def birddata(self):\n",
        "    print(self.bird,self.color)\n",
        "bd=Bird(\"crow\",\"black\")\n",
        "bd.birddata()"
      ],
      "metadata": {
        "colab": {
          "base_uri": "https://localhost:8080/"
        },
        "id": "BoEUEdoSoKGe",
        "outputId": "194a2862-1322-4636-90ff-e7abd6ba7282"
      },
      "execution_count": null,
      "outputs": [
        {
          "output_type": "stream",
          "name": "stdout",
          "text": [
            "crow black\n"
          ]
        }
      ]
    },
    {
      "cell_type": "markdown",
      "source": [
        "Checking poistive or negative number"
      ],
      "metadata": {
        "id": "cNuwnO0ptMNW"
      }
    },
    {
      "cell_type": "code",
      "source": [
        "class Employee:\n",
        "  def __init__(self,n):\n",
        "    self.numbers=n\n",
        "  def numberdata(self):\n",
        "    if self.numbers>0:\n",
        "      print(\"positive number\")\n",
        "    else :\n",
        "      print(\"negative number low\")\n",
        "c=Employee(1)\n",
        "c.numberdata()\n",
        "\n"
      ],
      "metadata": {
        "colab": {
          "base_uri": "https://localhost:8080/"
        },
        "id": "8j_ml0mfrL8c",
        "outputId": "6d128986-7452-4e73-d5c0-aacfcfec47ab"
      },
      "execution_count": null,
      "outputs": [
        {
          "output_type": "stream",
          "name": "stdout",
          "text": [
            "positive number\n"
          ]
        }
      ]
    },
    {
      "cell_type": "markdown",
      "source": [
        "class card details\n"
      ],
      "metadata": {
        "id": "Kj59yUvHuoJm"
      }
    },
    {
      "cell_type": "code",
      "source": [
        "class car\n",
        "  'common_car'\n",
        "  def __init__(self,name,id):\n",
        "    self.name=name\n",
        "    self.id=id\n",
        "    self.car+=1\n",
        "  def printcardata(self):\n",
        "    print(\"name:\",self.name,\"id\",self.id)\n",
        "c=Car(\"Audi\",20000)\n",
        "c1=car(\"Benz\",30000)\n"
      ],
      "metadata": {
        "id": "gkCb-xvAusDb"
      },
      "execution_count": null,
      "outputs": []
    },
    {
      "cell_type": "code",
      "source": [],
      "metadata": {
        "id": "XOxRBntoVf7_"
      },
      "execution_count": null,
      "outputs": []
    },
    {
      "cell_type": "code",
      "source": [
        "class test:\n",
        "  def __init__(self):\n",
        "    self.variable='car'\n",
        "    self.change(self.variable)\n",
        "  def change(self,var):\n",
        "    var=\"Bike\"\n",
        "obj=test()\n",
        "print(obj.variable)"
      ],
      "metadata": {
        "colab": {
          "base_uri": "https://localhost:8080/"
        },
        "id": "LcdhhlPuw2BH",
        "outputId": "d2b7197f-4a2b-452b-cc95-4bccd3f41b29"
      },
      "execution_count": null,
      "outputs": [
        {
          "output_type": "stream",
          "name": "stdout",
          "text": [
            "car\n"
          ]
        }
      ]
    },
    {
      "cell_type": "code",
      "source": [
        "class Animal:\n",
        "    def sound(self):\n",
        "        print(\"Some generic sound\")\n",
        "class Dog(Animal):\n",
        "    def sound(self):\n",
        "        print(\"bark\")\n",
        "class Cat(Animal):\n",
        "    def sound(self):\n",
        "        print(\"meow\")\n",
        "dog = Dog()\n",
        "cat = Cat()\n",
        "# overriding\n",
        "dog.sound()\n",
        "cat.sound()"
      ],
      "metadata": {
        "colab": {
          "base_uri": "https://localhost:8080/"
        },
        "id": "-BIQRlPZj_RW",
        "outputId": "cd94f5d1-3163-40b1-b520-9e11622cefac"
      },
      "execution_count": null,
      "outputs": [
        {
          "output_type": "stream",
          "name": "stdout",
          "text": [
            "bark\n",
            "meow\n"
          ]
        }
      ]
    },
    {
      "cell_type": "code",
      "source": [
        "x=int(input())\n",
        "y=int(input())\n",
        "\n",
        "class Calculator:\n",
        "  def add(self,a,b):\n",
        "    print(a+b)\n",
        "\n",
        "  def sub(self,a,b):\n",
        "      print(a-b)\n",
        "\n",
        "  def divide(self,a,b):\n",
        "      print(a/b)\n",
        "  def mul(self,a,b):\n",
        "      print(a*b)\n",
        "c=Calculator()\n",
        "c.add(x,y)\n",
        "c.sub(x,y)\n",
        "c.divide(x,y)\n",
        "c.mul(x,y)\n",
        "\n"
      ],
      "metadata": {
        "colab": {
          "base_uri": "https://localhost:8080/"
        },
        "id": "HsT2OMJxqXeA",
        "outputId": "c9b2c8c5-a086-409b-9924-8cd87f766b0c"
      },
      "execution_count": null,
      "outputs": [
        {
          "output_type": "stream",
          "name": "stdout",
          "text": [
            "2\n",
            "3\n",
            "-1\n",
            "-1\n",
            "0.6666666666666666\n",
            "6\n"
          ]
        }
      ]
    },
    {
      "cell_type": "code",
      "source": [
        "class Calculator:\n",
        "    def add(self,num1,num2):\n",
        "        self.num1=num1;\n",
        "        self.num2=num2;\n",
        "        return self.num1+self.num2\n",
        "    def sub(self,num1,num2):\n",
        "        return num1-num2;\n",
        "class AdvancedCalculator (Calculator):\n",
        "    def mul(self,num1,num2):\n",
        "        print(\"Multiplication: \", num1*num2)\n",
        "    def div(self,num1,num2):\n",
        "        return num1//num2;\n",
        "x=AdvancedCalculator()\n",
        "num1=int(input())\n",
        "num2=int(input())\n",
        "print(\"Addition: %d\" %(x.add(num1,num2)))\n",
        "print(\"Subtraction:\", x.sub(num1,num2))\n",
        "x.mul(num1,num2)\n",
        "print(\"Floor Division: %d\" %(x.div(num1,num2)))"
      ],
      "metadata": {
        "colab": {
          "base_uri": "https://localhost:8080/"
        },
        "id": "Kev73nRMoSzf",
        "outputId": "fa148e9b-fec5-4ca7-cdad-6c159c6e1de0"
      },
      "execution_count": null,
      "outputs": [
        {
          "output_type": "stream",
          "name": "stdout",
          "text": [
            "6\n",
            "8\n",
            "Addition: 14\n",
            "Subtraction: -2\n",
            "Multiplication:  48\n",
            "Floor Division: 0\n"
          ]
        }
      ]
    },
    {
      "cell_type": "code",
      "source": [
        "def is_prime(n):\n",
        "    if n < 2:\n",
        "        return \"Not a prime number\"\n",
        "    for i in range(2, n):\n",
        "        if n % i == 0:\n",
        "            return \"Not a prime number\"\n",
        "    return \"Prime number\"\n",
        "\n",
        "# Test the function\n",
        "number = int(input(\"Enter a number: \"))\n",
        "print(is_prime(number))\n"
      ],
      "metadata": {
        "id": "o2DcKhwPr6TV",
        "colab": {
          "base_uri": "https://localhost:8080/"
        },
        "outputId": "2d737b25-18bc-43ff-c6ed-f33766e0204e"
      },
      "execution_count": null,
      "outputs": [
        {
          "output_type": "stream",
          "name": "stdout",
          "text": [
            "Enter a number: 2\n",
            "Prime number\n"
          ]
        }
      ]
    },
    {
      "cell_type": "code",
      "source": [
        "a=int(input())\n",
        "b=int(input())\n",
        "def add(a,b):\n",
        "  c=a+b\n",
        "  return c\n",
        "d=add(a,b)\n",
        "print(\"d\",d)\n"
      ],
      "metadata": {
        "colab": {
          "base_uri": "https://localhost:8080/"
        },
        "id": "JvmAKKzBIksT",
        "outputId": "7ff72418-6b13-49aa-b537-cafdd5cad210"
      },
      "execution_count": null,
      "outputs": [
        {
          "output_type": "stream",
          "name": "stdout",
          "text": [
            "6\n",
            "7\n",
            "d 13\n"
          ]
        }
      ]
    },
    {
      "cell_type": "code",
      "source": [
        "a=int(input())\n",
        "if a %3==0:\n",
        "  print(\"divisible b y 3\")\n",
        "elif a%5==0:\n",
        "  print(\"divisible by 5\")\n",
        "else:\n",
        "  print(\"not divisible3\")"
      ],
      "metadata": {
        "colab": {
          "base_uri": "https://localhost:8080/"
        },
        "id": "ymgYXx9dVq-d",
        "outputId": "9f27d241-56a4-4082-d574-8ad16f74cf39"
      },
      "execution_count": null,
      "outputs": [
        {
          "output_type": "stream",
          "name": "stdout",
          "text": [
            "5\n",
            "divisible by 5\n"
          ]
        }
      ]
    },
    {
      "cell_type": "code",
      "source": [
        "a = int(input())\n",
        "b = int(input())\n",
        "set1 = list(str(a))\n",
        "print(set1)\n",
        "set2 = list(str(b))\n",
        "print(set2)\n",
        "for set1 in set2:\n",
        "  print(set1)\n"
      ],
      "metadata": {
        "colab": {
          "base_uri": "https://localhost:8080/"
        },
        "id": "B4AxdowQUdEi",
        "outputId": "b7ddd613-7b43-4048-a13d-3be42959a8cc"
      },
      "execution_count": null,
      "outputs": [
        {
          "output_type": "stream",
          "name": "stdout",
          "text": [
            "2\n",
            "3\n",
            "['2']\n",
            "['3']\n",
            "3\n"
          ]
        }
      ]
    },
    {
      "cell_type": "code",
      "source": [
        "list1 = [int(x) for x in input(\"Enter list 1: \")]\n",
        "list2 = [int(x) for x in input(\"Enter list 2: \")]\n",
        "common_elements = {x for x in list1 if x in list2}\n",
        "print(common_elements)"
      ],
      "metadata": {
        "colab": {
          "base_uri": "https://localhost:8080/"
        },
        "id": "ks7gR7rQXvS_",
        "outputId": "287e939c-26bc-4a8c-e9f2-60440fa031ae"
      },
      "execution_count": null,
      "outputs": [
        {
          "output_type": "stream",
          "name": "stdout",
          "text": [
            "Enter list 1: 2122\n",
            "Enter list 2: 33332\n",
            "{2}\n"
          ]
        }
      ]
    },
    {
      "cell_type": "code",
      "source": [
        "class Shape:\n",
        "  def circle(self):\n",
        "      return \"cicle not defined\"\n",
        "class circle(Shape):\n",
        "  def __init__(self,radius):\n",
        "    self.radius=radius\n",
        "  def area(self):\n",
        "    print( 3.14*self.radius**2)\n",
        "class  rectangle(circle):\n",
        "    def __init__(self,l,b):\n",
        "      self.l=l\n",
        "      self.b=b\n",
        "    def area(self):\n",
        "      self.ci=self.l*self.b\n",
        "      print(self.ci)\n",
        "c=circle(4)\n",
        "r=rectangle(3,4)\n",
        "c.area()\n",
        "r.area()\n",
        "\n",
        "\n",
        "\n"
      ],
      "metadata": {
        "colab": {
          "base_uri": "https://localhost:8080/"
        },
        "id": "QqTKjshjnUGz",
        "outputId": "95822fa0-6a42-4f3f-f9b7-46be15ec96bf"
      },
      "execution_count": null,
      "outputs": [
        {
          "output_type": "stream",
          "name": "stdout",
          "text": [
            "50.24\n",
            "12\n"
          ]
        }
      ]
    },
    {
      "cell_type": "code",
      "source": [],
      "metadata": {
        "id": "7hm6Z-cvrYiE"
      },
      "execution_count": null,
      "outputs": []
    }
  ],
  "metadata": {
    "colab": {
      "provenance": []
    },
    "kernelspec": {
      "display_name": "Python 3",
      "name": "python3"
    },
    "language_info": {
      "name": "python"
    }
  },
  "nbformat": 4,
  "nbformat_minor": 0
}