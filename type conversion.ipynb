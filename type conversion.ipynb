{
 "cells": [
  {
   "cell_type": "code",
   "execution_count": 1,
   "id": "b1367994-5520-4057-9f47-4a3c1d30e604",
   "metadata": {},
   "outputs": [
    {
     "name": "stdout",
     "output_type": "stream",
     "text": [
      "10.0\n",
      "10\n",
      "123\n",
      "123\n",
      "3.14\n",
      "1\n",
      "False\n"
     ]
    }
   ],
   "source": [
    "\n",
    "x = 10\n",
    "y = float(x)\n",
    "print(y) \n",
    "\n",
    "x = 10.5\n",
    "y = int(x)\n",
    "print(y)  \n",
    "\n",
    "\n",
    "x = 123\n",
    "y = str(x)\n",
    "print(y)  \n",
    "\n",
    "x = '123'\n",
    "y = int(x)\n",
    "print(y) \n",
    "\n",
    "\n",
    "x = '3.14'\n",
    "y = float(x)\n",
    "print(y) \n",
    "# Boolean to integer\n",
    "x = True\n",
    "y = int(x)\n",
    "print(y)  # Output: 1\n",
    "\n",
    "# Integer to boolean\n",
    "x = 0\n",
    "y = bool(x)\n",
    "print(y)"
   ]
  },
  {
   "cell_type": "code",
   "execution_count": null,
   "id": "8d3b1357-2bcd-4edc-b4c4-d4bffbbfca7c",
   "metadata": {},
   "outputs": [],
   "source": []
  }
 ],
 "metadata": {
  "kernelspec": {
   "display_name": "Python 3 (ipykernel)",
   "language": "python",
   "name": "python3"
  },
  "language_info": {
   "codemirror_mode": {
    "name": "ipython",
    "version": 3
   },
   "file_extension": ".py",
   "mimetype": "text/x-python",
   "name": "python",
   "nbconvert_exporter": "python",
   "pygments_lexer": "ipython3",
   "version": "3.12.3"
  }
 },
 "nbformat": 4,
 "nbformat_minor": 5
}
