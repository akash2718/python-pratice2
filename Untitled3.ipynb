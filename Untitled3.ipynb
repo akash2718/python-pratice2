{
  "nbformat": 4,
  "nbformat_minor": 0,
  "metadata": {
    "colab": {
      "provenance": []
    },
    "kernelspec": {
      "name": "python3",
      "display_name": "Python 3"
    },
    "language_info": {
      "name": "python"
    }
  },
  "cells": [
    {
      "cell_type": "code",
      "execution_count": null,
      "metadata": {
        "colab": {
          "base_uri": "https://localhost:8080/"
        },
        "id": "1kBXeFLVR2uT",
        "outputId": "e2637840-c26f-4c03-e62a-1ecec315d140"
      },
      "outputs": [
        {
          "output_type": "stream",
          "name": "stdout",
          "text": [
            "[1, 2, 3, 4]\n"
          ]
        }
      ],
      "source": [
        "num=[1,2,3,4]\n",
        "print(num)"
      ]
    },
    {
      "cell_type": "code",
      "source": [
        "num=[1.1,2.0,3.9,4.5]\n",
        "print(num)"
      ],
      "metadata": {
        "colab": {
          "base_uri": "https://localhost:8080/"
        },
        "id": "T7lCmvp9SHHL",
        "outputId": "3c151499-ba69-441d-8a0b-a6a7daf3e063"
      },
      "execution_count": null,
      "outputs": [
        {
          "output_type": "stream",
          "name": "stdout",
          "text": [
            "[1.1, 2.0, 3.9, 4.5]\n"
          ]
        }
      ]
    },
    {
      "cell_type": "code",
      "source": [
        "mix=[1,12.3,'a' \"python\"]\n",
        "print(mix)"
      ],
      "metadata": {
        "colab": {
          "base_uri": "https://localhost:8080/"
        },
        "id": "Xbv1HVg6STl4",
        "outputId": "d701eabe-692d-4d26-9a0c-2bf7107fc756"
      },
      "execution_count": null,
      "outputs": [
        {
          "output_type": "stream",
          "name": "stdout",
          "text": [
            "[1, 12.3, 'apython']\n"
          ]
        }
      ]
    },
    {
      "cell_type": "code",
      "source": [
        "# prompt: list within list -2 list\n",
        "\n",
        "num = [1, 2, 3, 4]\n",
        "print(num)\n",
        "num = [1.1, 2.0, 3.9, 4.5]\n",
        "print(num)\n",
        "mix = [1, 12.3, 'a', \"python\"]\n",
        "print(mix)\n",
        "nested_list = [[1, 2, 3], [4, 5, 6]]\n",
        "print(nested_list)"
      ],
      "metadata": {
        "colab": {
          "base_uri": "https://localhost:8080/"
        },
        "id": "m7KLijOwTOsW",
        "outputId": "abbdcf38-4998-48bf-f2aa-f97e23f2c118"
      },
      "execution_count": null,
      "outputs": [
        {
          "output_type": "stream",
          "name": "stdout",
          "text": [
            "[1, 2, 3, 4]\n",
            "[1.1, 2.0, 3.9, 4.5]\n",
            "[1, 12.3, 'a', 'python']\n",
            "[[1, 2, 3], [4, 5, 6]]\n"
          ]
        }
      ]
    },
    {
      "cell_type": "code",
      "source": [],
      "metadata": {
        "id": "ihXuT4CUTkKZ"
      },
      "execution_count": null,
      "outputs": []
    }
  ]
}