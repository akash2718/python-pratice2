{
  "nbformat": 4,
  "nbformat_minor": 0,
  "metadata": {
    "colab": {
      "provenance": []
    },
    "kernelspec": {
      "name": "python3",
      "display_name": "Python 3"
    },
    "language_info": {
      "name": "python"
    }
  },
  "cells": [
    {
      "cell_type": "code",
      "execution_count": null,
      "metadata": {
        "colab": {
          "base_uri": "https://localhost:8080/"
        },
        "id": "57qG5Z8ElRxC",
        "outputId": "fe9b2899-b534-4646-ea9e-3a65e235264c"
      },
      "outputs": [
        {
          "output_type": "stream",
          "name": "stdout",
          "text": [
            "{'python', 5.6, 6}\n"
          ]
        }
      ],
      "source": [
        "value = {6,'python',5.6}\n",
        "print(value)"
      ]
    },
    {
      "cell_type": "code",
      "source": [
        "type(value)"
      ],
      "metadata": {
        "id": "koowSL9_lmht"
      },
      "execution_count": null,
      "outputs": []
    },
    {
      "cell_type": "code",
      "source": [],
      "metadata": {
        "id": "XWaUxaQDlvCv"
      },
      "execution_count": null,
      "outputs": []
    },
    {
      "cell_type": "markdown",
      "source": [
        "Set\n",
        "\n",
        "Why the element are not printed in the order as we have given\n",
        "set is unordered\n",
        "\n",
        "value={}\n",
        "\n",
        "type(value)   #<------represent is the similar to dict\n",
        "\n",
        "dict\n",
        "\n",
        "values=set()\n",
        "\n",
        "type(values)\n",
        "set\n",
        "\n"
      ],
      "metadata": {
        "id": "BFwfl_6NlwE_"
      }
    },
    {
      "cell_type": "code",
      "source": [
        "value={12,1,2,3,2,45,4,5,3}\n",
        "value"
      ],
      "metadata": {
        "colab": {
          "base_uri": "https://localhost:8080/"
        },
        "id": "9QXyBYKDmqNr",
        "outputId": "e2f71654-1865-48bb-e49f-640a7fee7be6"
      },
      "execution_count": null,
      "outputs": [
        {
          "output_type": "execute_result",
          "data": {
            "text/plain": [
              "{1, 2, 3, 4, 5, 12, 45}"
            ]
          },
          "metadata": {},
          "execution_count": 3
        }
      ]
    },
    {
      "cell_type": "code",
      "source": [
        "//Creating a set//"
      ],
      "metadata": {
        "id": "Ez7tP__-mw5V"
      },
      "execution_count": null,
      "outputs": []
    },
    {
      "cell_type": "code",
      "source": [
        "set1 = set()\n",
        "print (set1)"
      ],
      "metadata": {
        "colab": {
          "base_uri": "https://localhost:8080/"
        },
        "id": "yi6GJrTNnsy4",
        "outputId": "1fde0671-29b3-42c1-b336-fa5f0dbd6325"
      },
      "execution_count": null,
      "outputs": [
        {
          "output_type": "stream",
          "name": "stdout",
          "text": [
            "set()\n"
          ]
        }
      ]
    },
    {
      "cell_type": "code",
      "source": [
        "value_set = {2,'python','a',5,9.4}\n",
        "value_set"
      ],
      "metadata": {
        "colab": {
          "base_uri": "https://localhost:8080/"
        },
        "id": "jhjj32rKnzxO",
        "outputId": "0bdc60f3-2c3c-4a3a-b23d-0d7923aba06f"
      },
      "execution_count": null,
      "outputs": [
        {
          "output_type": "execute_result",
          "data": {
            "text/plain": [
              "{2, 5, 9.4, 'a', 'python'}"
            ]
          },
          "metadata": {},
          "execution_count": 5
        }
      ]
    },
    {
      "cell_type": "code",
      "source": [],
      "metadata": {
        "id": "M3aBB-ARn91n"
      },
      "execution_count": null,
      "outputs": []
    },
    {
      "cell_type": "markdown",
      "source": [
        "write a python code to access an element in the set"
      ],
      "metadata": {
        "id": "LKgd7FFYo01o"
      }
    },
    {
      "cell_type": "code",
      "source": [
        "value_set[0]"
      ],
      "metadata": {
        "colab": {
          "base_uri": "https://localhost:8080/",
          "height": 141
        },
        "id": "dIZ_hplLo8pH",
        "outputId": "bfadc280-b3a4-486e-ac59-eecdb0a1b263"
      },
      "execution_count": null,
      "outputs": [
        {
          "output_type": "error",
          "ename": "TypeError",
          "evalue": "'set' object is not subscriptable",
          "traceback": [
            "\u001b[0;31m---------------------------------------------------------------------------\u001b[0m",
            "\u001b[0;31mTypeError\u001b[0m                                 Traceback (most recent call last)",
            "\u001b[0;32m<ipython-input-6-53c0feb171c8>\u001b[0m in \u001b[0;36m<cell line: 1>\u001b[0;34m()\u001b[0m\n\u001b[0;32m----> 1\u001b[0;31m \u001b[0mvalue_set\u001b[0m\u001b[0;34m[\u001b[0m\u001b[0;36m0\u001b[0m\u001b[0;34m]\u001b[0m\u001b[0;34m\u001b[0m\u001b[0;34m\u001b[0m\u001b[0m\n\u001b[0m",
            "\u001b[0;31mTypeError\u001b[0m: 'set' object is not subscriptable"
          ]
        }
      ]
    },
    {
      "cell_type": "code",
      "source": [],
      "metadata": {
        "id": "uSoe-dhJpAlQ"
      },
      "execution_count": null,
      "outputs": []
    },
    {
      "cell_type": "markdown",
      "source": [
        "what are the ways to add an element"
      ],
      "metadata": {
        "id": "f9etaWScpFJ7"
      }
    },
    {
      "cell_type": "code",
      "source": [
        "value_set.append(\"Hello\")\n",
        "value_set"
      ],
      "metadata": {
        "colab": {
          "base_uri": "https://localhost:8080/",
          "height": 158
        },
        "id": "wYvCZ3_ypIcr",
        "outputId": "65deb9ec-56a6-431f-864e-43c2ff255439"
      },
      "execution_count": null,
      "outputs": [
        {
          "output_type": "error",
          "ename": "AttributeError",
          "evalue": "'set' object has no attribute 'append'",
          "traceback": [
            "\u001b[0;31m---------------------------------------------------------------------------\u001b[0m",
            "\u001b[0;31mAttributeError\u001b[0m                            Traceback (most recent call last)",
            "\u001b[0;32m<ipython-input-8-fc3832989c8c>\u001b[0m in \u001b[0;36m<cell line: 1>\u001b[0;34m()\u001b[0m\n\u001b[0;32m----> 1\u001b[0;31m \u001b[0mvalue_set\u001b[0m\u001b[0;34m.\u001b[0m\u001b[0mappend\u001b[0m\u001b[0;34m(\u001b[0m\u001b[0;34m\"Hello\"\u001b[0m\u001b[0;34m)\u001b[0m\u001b[0;34m\u001b[0m\u001b[0;34m\u001b[0m\u001b[0m\n\u001b[0m\u001b[1;32m      2\u001b[0m \u001b[0mvalue_set\u001b[0m\u001b[0;34m\u001b[0m\u001b[0;34m\u001b[0m\u001b[0m\n",
            "\u001b[0;31mAttributeError\u001b[0m: 'set' object has no attribute 'append'"
          ]
        }
      ]
    },
    {
      "cell_type": "code",
      "source": [
        "value_set=set()\n",
        "n=int(input())\n",
        "for i in range(n):\n",
        "  value_set.add(int(input()))\n"
      ],
      "metadata": {
        "id": "v6jxCrs7pOWn",
        "colab": {
          "base_uri": "https://localhost:8080/"
        },
        "outputId": "cdaec738-1a0c-4c63-aaac-7e73e91b7545"
      },
      "execution_count": null,
      "outputs": [
        {
          "name": "stdout",
          "output_type": "stream",
          "text": [
            "4\n",
            "12\n",
            "36\n",
            "10\n",
            "6\n"
          ]
        }
      ]
    },
    {
      "cell_type": "code",
      "source": [
        "value_set"
      ],
      "metadata": {
        "colab": {
          "base_uri": "https://localhost:8080/"
        },
        "id": "SxCRwncl7Jew",
        "outputId": "2a9f64c6-b1ed-49c8-c76b-b54fdbbb8f64"
      },
      "execution_count": null,
      "outputs": [
        {
          "output_type": "execute_result",
          "data": {
            "text/plain": [
              "{6, 10, 12, 36}"
            ]
          },
          "metadata": {},
          "execution_count": 3
        }
      ]
    },
    {
      "cell_type": "code",
      "source": [
        "for i in value_set:\n",
        "  print(i)"
      ],
      "metadata": {
        "colab": {
          "base_uri": "https://localhost:8080/"
        },
        "id": "Z3wIVh-f7joC",
        "outputId": "0f752a49-bba6-4ab5-bb6c-ecfb824c7a15"
      },
      "execution_count": null,
      "outputs": [
        {
          "output_type": "stream",
          "name": "stdout",
          "text": [
            "10\n",
            "12\n",
            "36\n",
            "6\n"
          ]
        }
      ]
    },
    {
      "cell_type": "code",
      "source": [
        "value_set = {6,12,26,10}\n",
        "x=int(input(\"enter the number\"))\n",
        "print(x in value_set)"
      ],
      "metadata": {
        "colab": {
          "base_uri": "https://localhost:8080/"
        },
        "id": "aTujlxtf7xGd",
        "outputId": "e5769eb3-eb23-476c-a774-4768fc2ddb47"
      },
      "execution_count": null,
      "outputs": [
        {
          "output_type": "stream",
          "name": "stdout",
          "text": [
            "enter the number3\n",
            "False\n"
          ]
        }
      ]
    },
    {
      "cell_type": "code",
      "source": [
        "month1_set = {\"jan\", \"feb\", \"mar\", \"apr\", \"may\"}\n",
        "month2_set = {\"jun\", \"jan\", \"aug\", \"sep\", \"oct\"}\n",
        "\n",
        "month1_set\n"
      ],
      "metadata": {
        "colab": {
          "base_uri": "https://localhost:8080/"
        },
        "id": "54SKSg_Y87sp",
        "outputId": "a7c5f912-bed1-4adf-c95a-21e6dffc481e"
      },
      "execution_count": null,
      "outputs": [
        {
          "output_type": "execute_result",
          "data": {
            "text/plain": [
              "{'apr', 'feb', 'jan', 'mar', 'may'}"
            ]
          },
          "metadata": {},
          "execution_count": 19
        }
      ]
    },
    {
      "cell_type": "code",
      "source": [
        "month2_set"
      ],
      "metadata": {
        "colab": {
          "base_uri": "https://localhost:8080/"
        },
        "id": "vAph6Ndd-X_k",
        "outputId": "d7c287e0-7025-4e3b-da5c-06209adb1264"
      },
      "execution_count": null,
      "outputs": [
        {
          "output_type": "execute_result",
          "data": {
            "text/plain": [
              "{'aug', 'jan', 'jun', 'oct', 'sep'}"
            ]
          },
          "metadata": {},
          "execution_count": 21
        }
      ]
    },
    {
      "cell_type": "code",
      "source": [
        "\n",
        "\n",
        "month=month1_set | month2_set"
      ],
      "metadata": {
        "id": "ryo01BWF-a1o"
      },
      "execution_count": null,
      "outputs": []
    },
    {
      "cell_type": "code",
      "source": [
        "month"
      ],
      "metadata": {
        "colab": {
          "base_uri": "https://localhost:8080/"
        },
        "id": "ohsfTrta-lO9",
        "outputId": "fd6ee130-9694-4953-a038-0b7a95367d04"
      },
      "execution_count": null,
      "outputs": [
        {
          "output_type": "execute_result",
          "data": {
            "text/plain": [
              "{'apr', 'aug', 'feb', 'jan', 'jun', 'mar', 'may', 'oct', 'sep'}"
            ]
          },
          "metadata": {},
          "execution_count": 23
        }
      ]
    },
    {
      "cell_type": "code",
      "source": [
        "month_common=month1_set & month2_set"
      ],
      "metadata": {
        "id": "rhx8xRKo-rD7"
      },
      "execution_count": null,
      "outputs": []
    },
    {
      "cell_type": "code",
      "source": [
        "month_common"
      ],
      "metadata": {
        "colab": {
          "base_uri": "https://localhost:8080/"
        },
        "id": "6Rb3j7fd_Dg5",
        "outputId": "9dc41328-c9f8-4e21-ead4-3802c6d3f54e"
      },
      "execution_count": null,
      "outputs": [
        {
          "output_type": "execute_result",
          "data": {
            "text/plain": [
              "{'jan'}"
            ]
          },
          "metadata": {},
          "execution_count": 25
        }
      ]
    },
    {
      "cell_type": "code",
      "source": [
        "common=month1_set & month2_set\n",
        "\n",
        "month_common"
      ],
      "metadata": {
        "colab": {
          "base_uri": "https://localhost:8080/"
        },
        "id": "JIoJhJxU_MR4",
        "outputId": "7dacfe26-715c-4ad0-ed61-eec8bbdd6d48"
      },
      "execution_count": null,
      "outputs": [
        {
          "output_type": "execute_result",
          "data": {
            "text/plain": [
              "{'jan'}"
            ]
          },
          "metadata": {},
          "execution_count": 26
        }
      ]
    },
    {
      "cell_type": "code",
      "source": [
        "diff=(month1_set - month2_set)\n",
        "diff"
      ],
      "metadata": {
        "colab": {
          "base_uri": "https://localhost:8080/"
        },
        "id": "vINp-765_6Sd",
        "outputId": "2136b483-df96-4f82-b7ec-9a2b8597fc6a"
      },
      "execution_count": null,
      "outputs": [
        {
          "output_type": "execute_result",
          "data": {
            "text/plain": [
              "{'apr', 'feb', 'mar', 'may'}"
            ]
          },
          "metadata": {},
          "execution_count": 27
        }
      ]
    },
    {
      "cell_type": "code",
      "source": [
        "month1_set = {\"jan\", \"feb\", \"dec\", \"mar\"}\n",
        "month2_ser = {\"jan\", \"feb\"}\n",
        "month1_set > month2_set"
      ],
      "metadata": {
        "colab": {
          "base_uri": "https://localhost:8080/"
        },
        "id": "GB8r13iiBHNM",
        "outputId": "be057b45-21d0-4913-ab2a-8a8940eb4fe7"
      },
      "execution_count": null,
      "outputs": [
        {
          "output_type": "execute_result",
          "data": {
            "text/plain": [
              "False"
            ]
          },
          "metadata": {},
          "execution_count": 28
        }
      ]
    },
    {
      "cell_type": "code",
      "source": [
        "square = {x**2 for x in range(5)}\n",
        "square"
      ],
      "metadata": {
        "id": "YO5onCSqCg29",
        "colab": {
          "base_uri": "https://localhost:8080/"
        },
        "outputId": "ed016108-6bbd-42d5-df9d-2b75d83e60ae"
      },
      "execution_count": null,
      "outputs": [
        {
          "output_type": "execute_result",
          "data": {
            "text/plain": [
              "{0, 1, 4, 9, 16}"
            ]
          },
          "metadata": {},
          "execution_count": 1
        }
      ]
    },
    {
      "cell_type": "code",
      "source": [
        "number = [1,2,3,4,5]\n",
        "squared_number = {x**2 for x in number}\n",
        "squared_number"
      ],
      "metadata": {
        "colab": {
          "base_uri": "https://localhost:8080/"
        },
        "id": "PqAFzGQwDcl9",
        "outputId": "7bacf3fe-4e8c-4763-b9d8-3f212354534e"
      },
      "execution_count": null,
      "outputs": [
        {
          "output_type": "execute_result",
          "data": {
            "text/plain": [
              "{1, 4, 9, 16, 25}"
            ]
          },
          "metadata": {},
          "execution_count": 2
        }
      ]
    },
    {
      "cell_type": "code",
      "source": [
        "number = [1,2,3,4,5]\n",
        "even_number = {x for x in number if x%2==0}\n",
        "even_number"
      ],
      "metadata": {
        "colab": {
          "base_uri": "https://localhost:8080/"
        },
        "id": "13BgaF1oElP3",
        "outputId": "95c933bf-8b13-451d-91c1-4fba6bddf507"
      },
      "execution_count": null,
      "outputs": [
        {
          "output_type": "execute_result",
          "data": {
            "text/plain": [
              "{2, 4}"
            ]
          },
          "metadata": {},
          "execution_count": 3
        }
      ]
    },
    {
      "cell_type": "code",
      "source": [
        "words = ['apple','banana','cherry','lyn']\n",
        "vowels = {'a','e','i','o','u'}\n",
        "vowel_words = {word for words in words if any(letter in vowels for letter in word)}\n",
        "vowel_words"
      ],
      "metadata": {
        "colab": {
          "base_uri": "https://localhost:8080/"
        },
        "id": "Ko5oPALbE--k",
        "outputId": "1d8c6ab1-dffa-4085-a0ca-09d17ac46501"
      },
      "execution_count": null,
      "outputs": [
        {
          "output_type": "execute_result",
          "data": {
            "text/plain": [
              "set()"
            ]
          },
          "metadata": {},
          "execution_count": 8
        }
      ]
    },
    {
      "cell_type": "code",
      "source": [
        "duplicates = [1,2,3,4,5,1,6]\n",
        "unique_squares = {x**2 for x in duplicates}\n",
        "unique_squares"
      ],
      "metadata": {
        "colab": {
          "base_uri": "https://localhost:8080/"
        },
        "id": "VyiNbtfaGodp",
        "outputId": "e068f016-e472-4a45-86e8-40672f310d8f"
      },
      "execution_count": null,
      "outputs": [
        {
          "output_type": "execute_result",
          "data": {
            "text/plain": [
              "{1, 4, 9, 16, 25, 36}"
            ]
          },
          "metadata": {},
          "execution_count": 9
        }
      ]
    },
    {
      "cell_type": "code",
      "source": [
        "text = \"Narendra\"\n",
        "uppercase_letters={char.upper() for char in text if char.isalpha()}\n",
        "uppercase_letters"
      ],
      "metadata": {
        "colab": {
          "base_uri": "https://localhost:8080/"
        },
        "id": "25taVhHrH--Y",
        "outputId": "11ef74b6-5a02-452a-f532-9505ed91e359"
      },
      "execution_count": null,
      "outputs": [
        {
          "output_type": "execute_result",
          "data": {
            "text/plain": [
              "{'A', 'D', 'E', 'N', 'R'}"
            ]
          },
          "metadata": {},
          "execution_count": 16
        }
      ]
    },
    {
      "cell_type": "code",
      "source": [],
      "metadata": {
        "colab": {
          "base_uri": "https://localhost:8080/"
        },
        "id": "9ULTyAP5IJfm",
        "outputId": "d2853ef3-5cf0-4264-f34e-594614dc3277"
      },
      "execution_count": null,
      "outputs": [
        {
          "output_type": "execute_result",
          "data": {
            "text/plain": [
              "{0: 0, 1: 1, 2: 4, 3: 9, 4: 16}"
            ]
          },
          "metadata": {},
          "execution_count": 17
        }
      ]
    },
    {
      "cell_type": "code",
      "source": [],
      "metadata": {
        "id": "zj64gJblJchO"
      },
      "execution_count": null,
      "outputs": []
    }
  ]
}