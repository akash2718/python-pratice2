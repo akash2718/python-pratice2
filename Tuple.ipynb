{
  "nbformat": 4,
  "nbformat_minor": 0,
  "metadata": {
    "colab": {
      "provenance": []
    },
    "kernelspec": {
      "name": "python3",
      "display_name": "Python 3"
    },
    "language_info": {
      "name": "python"
    }
  },
  "cells": [
    {
      "cell_type": "code",
      "execution_count": null,
      "metadata": {
        "colab": {
          "base_uri": "https://localhost:8080/"
        },
        "id": "zpcUyk1Y2ef3",
        "outputId": "4362aa91-7c4c-4cf7-b528-9659d44ef158"
      },
      "outputs": [
        {
          "output_type": "stream",
          "name": "stdout",
          "text": [
            "(26, 45, 32)\n"
          ]
        }
      ],
      "source": [
        "value_tuple = 26,45,32\n",
        "print(value_tuple)"
      ]
    },
    {
      "cell_type": "code",
      "source": [
        "tuple = ('hello',)\n",
        "print(tuple)"
      ],
      "metadata": {
        "colab": {
          "base_uri": "https://localhost:8080/"
        },
        "id": "grsxhb0Q2oEu",
        "outputId": "d99c834a-7155-4072-decb-dbe1e50b3b41"
      },
      "execution_count": null,
      "outputs": [
        {
          "output_type": "stream",
          "name": "stdout",
          "text": [
            "('hello',)\n"
          ]
        }
      ]
    },
    {
      "cell_type": "code",
      "source": [
        "value1_tuple=(26,45,'hello')\n",
        "value2_tuple=7,5.6,\"pthon\"\n",
        "value3_tuple=value1_tuple+value2_tuple\n",
        "print(value3_tuple)"
      ],
      "metadata": {
        "colab": {
          "base_uri": "https://localhost:8080/"
        },
        "id": "SK8xXMpi27KG",
        "outputId": "e7ee4556-f9c3-468a-b133-f05521fc848d"
      },
      "execution_count": null,
      "outputs": [
        {
          "output_type": "stream",
          "name": "stdout",
          "text": [
            "(26, 45, 'hello', 7, 5.6, 'pthon')\n"
          ]
        }
      ]
    },
    {
      "cell_type": "code",
      "source": [
        "value_tuple = (26,45,'hello',7.5)\n",
        "print(value_tuple[:6])"
      ],
      "metadata": {
        "colab": {
          "base_uri": "https://localhost:8080/"
        },
        "id": "qtc8tYWD4glA",
        "outputId": "7438c8e2-ce14-4f81-d601-9316def8e5f6"
      },
      "execution_count": null,
      "outputs": [
        {
          "output_type": "stream",
          "name": "stdout",
          "text": [
            "(26, 45, 'hello', 7.5)\n"
          ]
        }
      ]
    },
    {
      "cell_type": "code",
      "source": [
        "\n"
      ],
      "metadata": {
        "id": "TGPkh_BS5Own"
      },
      "execution_count": null,
      "outputs": []
    },
    {
      "cell_type": "code",
      "source": [
        "a=int(input())\n",
        "b=list(map(int,input().split()))\n",
        "print(max(b))"
      ],
      "metadata": {
        "id": "p5pQKH5J3rDZ"
      },
      "execution_count": null,
      "outputs": []
    },
    {
      "cell_type": "code",
      "source": [
        "Tuple = ('hello')\n",
        "n = 3\n",
        "for i in range(int(n)):\n",
        "    Tuple = (Tuple,)\n",
        "    print(Tuple)"
      ],
      "metadata": {
        "id": "P_PBuom65o64",
        "colab": {
          "base_uri": "https://localhost:8080/"
        },
        "outputId": "2f3e9b25-1edb-47c1-a225-7ec9125c3ee8"
      },
      "execution_count": null,
      "outputs": [
        {
          "output_type": "stream",
          "name": "stdout",
          "text": [
            "('hello',)\n",
            "(('hello',),)\n",
            "((('hello',),),)\n"
          ]
        }
      ]
    },
    {
      "cell_type": "code",
      "source": [
        "tuple = ('develope',5,8.9,'r',8)\n",
        "print(len(tuple))"
      ],
      "metadata": {
        "colab": {
          "base_uri": "https://localhost:8080/"
        },
        "id": "wFWixHnACDfJ",
        "outputId": "bd6ec5ce-82a0-47c2-975f-50b70dd7bb83"
      },
      "execution_count": null,
      "outputs": [
        {
          "output_type": "stream",
          "name": "stdout",
          "text": [
            "5\n"
          ]
        }
      ]
    },
    {
      "cell_type": "code",
      "source": [
        "tuple = (9,5,89,4,8)\n",
        "print(max(tuple))"
      ],
      "metadata": {
        "colab": {
          "base_uri": "https://localhost:8080/"
        },
        "id": "M6kPXK2dCsm7",
        "outputId": "40511a8a-30c5-47b9-98a0-3bec69c04dbb"
      },
      "execution_count": null,
      "outputs": [
        {
          "output_type": "stream",
          "name": "stdout",
          "text": [
            "89\n"
          ]
        }
      ]
    },
    {
      "cell_type": "code",
      "source": [
        "tuple = (9,5,89,4,8)\n",
        "print(min(tuple))"
      ],
      "metadata": {
        "colab": {
          "base_uri": "https://localhost:8080/"
        },
        "id": "COypxbT0C3gJ",
        "outputId": "3d795355-30e9-446c-917d-c305ffac6b9b"
      },
      "execution_count": null,
      "outputs": [
        {
          "output_type": "stream",
          "name": "stdout",
          "text": [
            "4\n"
          ]
        }
      ]
    },
    {
      "cell_type": "code",
      "source": [
        "tuple = (9,5,89,4,8)\n",
        "print(sum(tuple))"
      ],
      "metadata": {
        "colab": {
          "base_uri": "https://localhost:8080/"
        },
        "id": "PKJJWCn8C6IR",
        "outputId": "81cd40fd-b263-4670-e2cd-bb67365d5e9b"
      },
      "execution_count": null,
      "outputs": [
        {
          "output_type": "stream",
          "name": "stdout",
          "text": [
            "115\n"
          ]
        }
      ]
    },
    {
      "cell_type": "code",
      "source": [
        "tuple = (0,1)\n",
        "print(any(tuple))"
      ],
      "metadata": {
        "colab": {
          "base_uri": "https://localhost:8080/"
        },
        "id": "lHvlYLTNC-d4",
        "outputId": "74dbbbe2-e19f-431d-d168-3ba484f913a0"
      },
      "execution_count": null,
      "outputs": [
        {
          "output_type": "stream",
          "name": "stdout",
          "text": [
            "True\n"
          ]
        }
      ]
    },
    {
      "cell_type": "code",
      "source": [
        "tuple = (4,1)\n",
        "print(all(tuple))"
      ],
      "metadata": {
        "colab": {
          "base_uri": "https://localhost:8080/"
        },
        "id": "GHVAHYbuDG21",
        "outputId": "5c0e4d40-de13-45c5-fb7f-a8264ce1254f"
      },
      "execution_count": null,
      "outputs": [
        {
          "output_type": "stream",
          "name": "stdout",
          "text": [
            "True\n"
          ]
        }
      ]
    },
    {
      "cell_type": "code",
      "source": [
        "tuple = (0,5,7)\n",
        "print(all(tuple))"
      ],
      "metadata": {
        "colab": {
          "base_uri": "https://localhost:8080/"
        },
        "id": "BgKkfGaMDL1Z",
        "outputId": "45e61ee5-f986-4a2b-d016-5edceae945e6"
      },
      "execution_count": null,
      "outputs": [
        {
          "output_type": "stream",
          "name": "stdout",
          "text": [
            "False\n"
          ]
        }
      ]
    },
    {
      "cell_type": "code",
      "source": [
        "tuple = (\"Apple\",\"byte\",\"computer\")\n",
        "n=2\n",
        "for i in range(n):\n",
        "    print(tuple[i])\n",
        "    break"
      ],
      "metadata": {
        "colab": {
          "base_uri": "https://localhost:8080/"
        },
        "id": "47yZCZ_KDRFF",
        "outputId": "250f188d-c52f-4ae1-ed46-89936b3ddc1c"
      },
      "execution_count": null,
      "outputs": [
        {
          "output_type": "stream",
          "name": "stdout",
          "text": [
            "Apple\n"
          ]
        }
      ]
    },
    {
      "cell_type": "code",
      "source": [
        "tuple = (\"Apple\",\"byte\",\"computer\")\n",
        "print(list(tuple))"
      ],
      "metadata": {
        "colab": {
          "base_uri": "https://localhost:8080/"
        },
        "id": "ayWBe8RgDe9b",
        "outputId": "e153f600-8d22-4ba6-fd30-7f4b96478825"
      },
      "execution_count": null,
      "outputs": [
        {
          "output_type": "stream",
          "name": "stdout",
          "text": [
            "['Apple', 'byte', 'computer']\n"
          ]
        }
      ]
    },
    {
      "cell_type": "code",
      "source": [
        "tuple = (3,7,'p','y','t','h','o','n')\n",
        "print(tuple.count('y'))\n",
        "print(tuple.count('o'))\n",
        "print(tuple.count('h'))"
      ],
      "metadata": {
        "colab": {
          "base_uri": "https://localhost:8080/"
        },
        "id": "zQnXrFaIDtfX",
        "outputId": "c3a3c717-3136-46b2-e69c-69b28a10a41c"
      },
      "execution_count": null,
      "outputs": [
        {
          "output_type": "stream",
          "name": "stdout",
          "text": [
            "1\n",
            "1\n",
            "1\n"
          ]
        }
      ]
    },
    {
      "cell_type": "code",
      "source": [
        "value_tuple = (26,45,'hello')\n",
        "value_tuple = (7,4.5,'python')\n",
        "value_3=value_tuple+value_tuple\n",
        "print(value_3)"
      ],
      "metadata": {
        "colab": {
          "base_uri": "https://localhost:8080/"
        },
        "id": "mLA1cuTXECER",
        "outputId": "781d3737-6641-4386-8f01-069d9cf4d429"
      },
      "execution_count": null,
      "outputs": [
        {
          "output_type": "stream",
          "name": "stdout",
          "text": [
            "(7, 4.5, 'python', 7, 4.5, 'python')\n"
          ]
        }
      ]
    },
    {
      "cell_type": "code",
      "source": [
        "value=()\n",
        "n=int(input())\n",
        "list_1=[]\n",
        "for i in range(n):\n",
        "    a=int(input())\n",
        "    list_1.append(int(input()))\n",
        "value=print(list_1)"
      ],
      "metadata": {
        "colab": {
          "base_uri": "https://localhost:8080/"
        },
        "id": "X7vq4sAEJ6LG",
        "outputId": "621821dc-2311-4777-f331-b6afc46f52f0"
      },
      "execution_count": null,
      "outputs": [
        {
          "output_type": "stream",
          "name": "stdout",
          "text": [
            "1\n",
            "2\n",
            "3\n",
            "[3]\n"
          ]
        }
      ]
    },
    {
      "cell_type": "code",
      "source": [
        "number=(\"One\",\"Two\",\"Three\",\"Four\")\n",
        "i=0\n",
        "while i<len(number):\n",
        "  print(number[i])\n",
        "  i+=1\n"
      ],
      "metadata": {
        "colab": {
          "base_uri": "https://localhost:8080/"
        },
        "id": "i2Hzpq7LJ8Xt",
        "outputId": "cc4c3270-ee66-42d1-cc87-aac271811b93"
      },
      "execution_count": null,
      "outputs": [
        {
          "output_type": "stream",
          "name": "stdout",
          "text": [
            "One\n",
            "Two\n",
            "Three\n",
            "Four\n"
          ]
        }
      ]
    },
    {
      "cell_type": "code",
      "source": [
        "number=(\"One\",\"Two\",\"Three\",\"Four\")\n",
        "for i in number:\n",
        "    print(i)"
      ],
      "metadata": {
        "colab": {
          "base_uri": "https://localhost:8080/"
        },
        "id": "_Z3274ZzgMf5",
        "outputId": "c943959a-3add-4800-ed3d-4bbd4b6b7d35"
      },
      "execution_count": null,
      "outputs": [
        {
          "output_type": "stream",
          "name": "stdout",
          "text": [
            "One\n",
            "Two\n",
            "Three\n",
            "Four\n"
          ]
        }
      ]
    },
    {
      "cell_type": "code",
      "source": [
        "value_set={2,'PYTHON','a',5,9.4}\n",
        "value_set.remove('PYTHON')\n",
        "print(value_set)"
      ],
      "metadata": {
        "colab": {
          "base_uri": "https://localhost:8080/"
        },
        "id": "rULeUdFUgTOm",
        "outputId": "c35ceb39-fe1b-46e6-ab2d-ea0a1d334b6b"
      },
      "execution_count": null,
      "outputs": [
        {
          "output_type": "stream",
          "name": "stdout",
          "text": [
            "{2, 'a', 5, 9.4}\n"
          ]
        }
      ]
    },
    {
      "cell_type": "code",
      "source": [
        "value_set={2,'PYTHON','a',5,9.4}\n",
        "value_set.discard('PYTHON')\n",
        "print(value_set)"
      ],
      "metadata": {
        "colab": {
          "base_uri": "https://localhost:8080/"
        },
        "id": "BkyOEc3AnPdP",
        "outputId": "3fea3328-413b-4750-f575-1dffd04aeb94"
      },
      "execution_count": null,
      "outputs": [
        {
          "output_type": "stream",
          "name": "stdout",
          "text": [
            "{2, 'a', 5, 9.4}\n"
          ]
        }
      ]
    },
    {
      "cell_type": "code",
      "source": [],
      "metadata": {
        "id": "7N0_z-g5nUzv"
      },
      "execution_count": null,
      "outputs": []
    }
  ]
}